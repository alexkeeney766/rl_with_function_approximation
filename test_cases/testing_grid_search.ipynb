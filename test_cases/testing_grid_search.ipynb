{
 "cells": [
  {
   "cell_type": "code",
   "execution_count": 1,
   "metadata": {},
   "outputs": [
    {
     "name": "stdout",
     "output_type": "stream",
     "text": [
      "1.10.0\n"
     ]
    }
   ],
   "source": [
    "import torch\n",
    "import pandas as pd \n",
    "import numpy as np \n",
    "import altair as alt \n",
    "print(torch.__version__)\n",
    "\n",
    "import os\n",
    "from gym_runner.gym_runner import GymRunner\n",
    "from gym_runner.q_func_approx import QFuncSmallThreelayer, QFuncLargeTwoLayer\n",
    "from gym_runner.agents.sarsa_agent import SarsaAgent\n",
    "from gym_runner.agents.q_learning_agent import QLearningAgent, QLearningAgentExperienceReplay\n",
    "from gym_runner.grid_search import GridSearch\n",
    "from sklearn.model_selection import ParameterGrid"
   ]
  },
  {
   "cell_type": "code",
   "execution_count": 2,
   "metadata": {},
   "outputs": [],
   "source": [
    "param_grid = dict(\n",
    "    alpha=np.logspace(-6, -2, 10),\n",
    "    gamma=np.linspace(.9, .99, 5),\n",
    "    epsilon_decay=np.linspace(.997, .999, 5),\n",
    "    q_func_approx = [QFuncSmallThreelayer, QFuncLargeTwoLayer],\n",
    "    optimizer = ['SGD', 'Adam'],\n",
    "    loss_func = ['mse', 'l1']\n",
    ")\n",
    "\n",
    "param_grid_small = dict(\n",
    "    alpha=np.logspace(-6, -2, 5),\n",
    "    gamma=np.linspace(.9, .99, 4),\n",
    "    q_func_approx = [QFuncSmallThreelayer, QFuncLargeTwoLayer]\n",
    ")"
   ]
  },
  {
   "cell_type": "code",
   "execution_count": 3,
   "metadata": {},
   "outputs": [],
   "source": [
    "gs = GridSearch(\n",
    "    agent = SarsaAgent,  \n",
    "    runner = GymRunner,\n",
    "    env_id = \"CartPole-v1\", \n",
    "    param_grid = param_grid)\n",
    "\n",
    "\n",
    "gs_Q = GridSearch(\n",
    "    agent = QLearningAgent,  \n",
    "    runner = GymRunner,\n",
    "    env_id = \"CartPole-v1\", \n",
    "    param_grid = param_grid\n",
    ")\n",
    "\n",
    "gs_Q_exp = GridSearch(\n",
    "    agent = QLearningAgentExperienceReplay,\n",
    "    runner=GymRunner,\n",
    "    env_id = 'CartPole-v1',\n",
    "    param_grid = param_grid\n",
    ")"
   ]
  },
  {
   "cell_type": "code",
   "execution_count": null,
   "metadata": {},
   "outputs": [],
   "source": [
    "results_Q = gs_Q.fit()"
   ]
  },
  {
   "cell_type": "code",
   "execution_count": null,
   "metadata": {},
   "outputs": [],
   "source": [
    "results_Q.sort_values('mean_score')"
   ]
  },
  {
   "cell_type": "code",
   "execution_count": null,
   "metadata": {},
   "outputs": [],
   "source": [
    "results_Q_exp = gs_Q_exp.fit()"
   ]
  },
  {
   "cell_type": "code",
   "execution_count": null,
   "metadata": {},
   "outputs": [],
   "source": [
    "results_Q_exp.sort_values('mean_score')"
   ]
  },
  {
   "cell_type": "code",
   "execution_count": null,
   "metadata": {},
   "outputs": [],
   "source": [
    "results = gs.fit()"
   ]
  },
  {
   "cell_type": "code",
   "execution_count": null,
   "metadata": {},
   "outputs": [],
   "source": [
    "results.sort_values('mean_score')"
   ]
  },
  {
   "cell_type": "code",
   "execution_count": null,
   "metadata": {},
   "outputs": [],
   "source": []
  }
 ],
 "metadata": {
  "interpreter": {
   "hash": "656cb41370b456baeab1b14d05244093feac04569e9fd56ae5a4bd10e169e243"
  },
  "kernelspec": {
   "display_name": "Python 3 (ipykernel)",
   "language": "python",
   "name": "python3"
  },
  "language_info": {
   "codemirror_mode": {
    "name": "ipython",
    "version": 3
   },
   "file_extension": ".py",
   "mimetype": "text/x-python",
   "name": "python",
   "nbconvert_exporter": "python",
   "pygments_lexer": "ipython3",
   "version": "3.8.12"
  }
 },
 "nbformat": 4,
 "nbformat_minor": 4
}
