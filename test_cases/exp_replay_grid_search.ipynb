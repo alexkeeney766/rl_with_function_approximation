{
 "cells": [
  {
   "cell_type": "code",
   "execution_count": 1,
   "id": "8641644b-564a-4ce1-ac08-c69dd9f3f600",
   "metadata": {},
   "outputs": [
    {
     "name": "stdout",
     "output_type": "stream",
     "text": [
      "1.10.0\n"
     ]
    }
   ],
   "source": [
    "import torch\n",
    "import pandas as pd \n",
    "import numpy as np \n",
    "import altair as alt \n",
    "print(torch.__version__)\n",
    "\n",
    "import os\n",
    "from gym_runner.gym_runner import GymRunner\n",
    "from gym_runner.q_func_approx import QFuncSmallThreelayer, QFuncLargeTwoLayer, QFuncMedThreelayer\n",
    "from gym_runner.agents.q_learning_agent import  QLearningAgentExperienceReplay\n",
    "from gym_runner.grid_search import GridSearch"
   ]
  },
  {
   "cell_type": "code",
   "execution_count": 2,
   "id": "5de03949-6ce2-4545-ba8d-5268ff61bbe4",
   "metadata": {},
   "outputs": [],
   "source": [
    "param_grid = dict(\n",
    "    alpha=np.logspace(-6, -2, 5),\n",
    "    gamma=np.linspace(.9, .99, 5),\n",
    "    # epsilon_decay=np.linspace(.997, .999, 5),\n",
    "    q_func_approx = [QFuncSmallThreelayer, QFuncLargeTwoLayer, QFuncMedThreelayer],\n",
    "    optimizer = ['SGD', 'Adam'],\n",
    "    loss_func = ['mse', 'l1']\n",
    ")\n",
    "\n",
    "param_grid_small = dict(\n",
    "    alpha=np.logspace(-6, -2, 3),\n",
    "    gamma=np.linspace(.9, .99, 2),\n",
    ")"
   ]
  },
  {
   "cell_type": "code",
   "execution_count": 3,
   "id": "90098d04-57e6-47b1-a5f4-641729bf3661",
   "metadata": {},
   "outputs": [],
   "source": [
    "gs_Q_exp = GridSearch(\n",
    "    agent = QLearningAgentExperienceReplay,\n",
    "    Q=QFuncMedThreelayer,\n",
    "    runner=GymRunner,\n",
    "    env_id = 'CartPole-v1',\n",
    "    param_grid = param_grid\n",
    ")"
   ]
  },
  {
   "cell_type": "code",
   "execution_count": 4,
   "id": "d856a137-f7bb-40ff-8a52-cbad96b76d9c",
   "metadata": {},
   "outputs": [
    {
     "name": "stdout",
     "output_type": "stream",
     "text": [
      "Running 300 seperate agents through CartPole-v1 5 times each.\n",
      "Using 24 processes.\n"
     ]
    },
    {
     "name": "stderr",
     "output_type": "stream",
     "text": [
      "100%|████████████████████████████████████████████████████████████████████████████████████████████████████████████████████████████████████████████████████████████████████████████████████████████████| 300/300 [11:25<00:00,  2.28s/it]\n"
     ]
    }
   ],
   "source": [
    "results_Q = gs_Q_exp.fit(num_procs = os.cpu_count())"
   ]
  },
  {
   "cell_type": "code",
   "execution_count": 5,
   "id": "204ea5ec-8ac4-456c-a067-704aa0ea2255",
   "metadata": {},
   "outputs": [
    {
     "data": {
      "text/html": [
       "<div>\n",
       "<style scoped>\n",
       "    .dataframe tbody tr th:only-of-type {\n",
       "        vertical-align: middle;\n",
       "    }\n",
       "\n",
       "    .dataframe tbody tr th {\n",
       "        vertical-align: top;\n",
       "    }\n",
       "\n",
       "    .dataframe thead th {\n",
       "        text-align: right;\n",
       "    }\n",
       "</style>\n",
       "<table border=\"1\" class=\"dataframe\">\n",
       "  <thead>\n",
       "    <tr style=\"text-align: right;\">\n",
       "      <th></th>\n",
       "      <th>alpha</th>\n",
       "      <th>gamma</th>\n",
       "      <th>loss_func</th>\n",
       "      <th>optimizer</th>\n",
       "      <th>q_func_approx</th>\n",
       "      <th>mean_score</th>\n",
       "      <th>max_mean_score</th>\n",
       "    </tr>\n",
       "  </thead>\n",
       "  <tbody>\n",
       "    <tr>\n",
       "      <th>79</th>\n",
       "      <td>0.000010</td>\n",
       "      <td>0.9225</td>\n",
       "      <td>l1</td>\n",
       "      <td>SGD</td>\n",
       "      <td>&lt;class 'q_func_approx.QFuncLargeTwoLayer'&gt;</td>\n",
       "      <td>47.150</td>\n",
       "      <td>168.80</td>\n",
       "    </tr>\n",
       "    <tr>\n",
       "      <th>241</th>\n",
       "      <td>0.010000</td>\n",
       "      <td>0.9000</td>\n",
       "      <td>mse</td>\n",
       "      <td>SGD</td>\n",
       "      <td>&lt;class 'q_func_approx.QFuncLargeTwoLayer'&gt;</td>\n",
       "      <td>48.546</td>\n",
       "      <td>73.92</td>\n",
       "    </tr>\n",
       "    <tr>\n",
       "      <th>279</th>\n",
       "      <td>0.010000</td>\n",
       "      <td>0.9675</td>\n",
       "      <td>mse</td>\n",
       "      <td>Adam</td>\n",
       "      <td>&lt;class 'q_func_approx.QFuncSmallThreelayer'&gt;</td>\n",
       "      <td>49.182</td>\n",
       "      <td>125.27</td>\n",
       "    </tr>\n",
       "    <tr>\n",
       "      <th>245</th>\n",
       "      <td>0.010000</td>\n",
       "      <td>0.9000</td>\n",
       "      <td>mse</td>\n",
       "      <td>Adam</td>\n",
       "      <td>&lt;class 'q_func_approx.QFuncMedThreelayer'&gt;</td>\n",
       "      <td>53.328</td>\n",
       "      <td>129.27</td>\n",
       "    </tr>\n",
       "    <tr>\n",
       "      <th>74</th>\n",
       "      <td>0.000010</td>\n",
       "      <td>0.9225</td>\n",
       "      <td>mse</td>\n",
       "      <td>SGD</td>\n",
       "      <td>&lt;class 'q_func_approx.QFuncMedThreelayer'&gt;</td>\n",
       "      <td>56.700</td>\n",
       "      <td>107.07</td>\n",
       "    </tr>\n",
       "    <tr>\n",
       "      <th>292</th>\n",
       "      <td>0.010000</td>\n",
       "      <td>0.9900</td>\n",
       "      <td>mse</td>\n",
       "      <td>Adam</td>\n",
       "      <td>&lt;class 'q_func_approx.QFuncLargeTwoLayer'&gt;</td>\n",
       "      <td>60.372</td>\n",
       "      <td>158.07</td>\n",
       "    </tr>\n",
       "    <tr>\n",
       "      <th>50</th>\n",
       "      <td>0.000001</td>\n",
       "      <td>0.9900</td>\n",
       "      <td>mse</td>\n",
       "      <td>SGD</td>\n",
       "      <td>&lt;class 'q_func_approx.QFuncMedThreelayer'&gt;</td>\n",
       "      <td>77.774</td>\n",
       "      <td>266.06</td>\n",
       "    </tr>\n",
       "    <tr>\n",
       "      <th>127</th>\n",
       "      <td>0.000100</td>\n",
       "      <td>0.9000</td>\n",
       "      <td>l1</td>\n",
       "      <td>SGD</td>\n",
       "      <td>&lt;class 'q_func_approx.QFuncLargeTwoLayer'&gt;</td>\n",
       "      <td>84.686</td>\n",
       "      <td>348.48</td>\n",
       "    </tr>\n",
       "    <tr>\n",
       "      <th>280</th>\n",
       "      <td>0.010000</td>\n",
       "      <td>0.9675</td>\n",
       "      <td>mse</td>\n",
       "      <td>Adam</td>\n",
       "      <td>&lt;class 'q_func_approx.QFuncLargeTwoLayer'&gt;</td>\n",
       "      <td>115.532</td>\n",
       "      <td>228.56</td>\n",
       "    </tr>\n",
       "    <tr>\n",
       "      <th>293</th>\n",
       "      <td>0.010000</td>\n",
       "      <td>0.9900</td>\n",
       "      <td>mse</td>\n",
       "      <td>Adam</td>\n",
       "      <td>&lt;class 'q_func_approx.QFuncMedThreelayer'&gt;</td>\n",
       "      <td>147.000</td>\n",
       "      <td>413.46</td>\n",
       "    </tr>\n",
       "  </tbody>\n",
       "</table>\n",
       "</div>"
      ],
      "text/plain": [
       "        alpha   gamma loss_func optimizer  \\\n",
       "79   0.000010  0.9225        l1       SGD   \n",
       "241  0.010000  0.9000       mse       SGD   \n",
       "279  0.010000  0.9675       mse      Adam   \n",
       "245  0.010000  0.9000       mse      Adam   \n",
       "74   0.000010  0.9225       mse       SGD   \n",
       "292  0.010000  0.9900       mse      Adam   \n",
       "50   0.000001  0.9900       mse       SGD   \n",
       "127  0.000100  0.9000        l1       SGD   \n",
       "280  0.010000  0.9675       mse      Adam   \n",
       "293  0.010000  0.9900       mse      Adam   \n",
       "\n",
       "                                    q_func_approx  mean_score  max_mean_score  \n",
       "79     <class 'q_func_approx.QFuncLargeTwoLayer'>      47.150          168.80  \n",
       "241    <class 'q_func_approx.QFuncLargeTwoLayer'>      48.546           73.92  \n",
       "279  <class 'q_func_approx.QFuncSmallThreelayer'>      49.182          125.27  \n",
       "245    <class 'q_func_approx.QFuncMedThreelayer'>      53.328          129.27  \n",
       "74     <class 'q_func_approx.QFuncMedThreelayer'>      56.700          107.07  \n",
       "292    <class 'q_func_approx.QFuncLargeTwoLayer'>      60.372          158.07  \n",
       "50     <class 'q_func_approx.QFuncMedThreelayer'>      77.774          266.06  \n",
       "127    <class 'q_func_approx.QFuncLargeTwoLayer'>      84.686          348.48  \n",
       "280    <class 'q_func_approx.QFuncLargeTwoLayer'>     115.532          228.56  \n",
       "293    <class 'q_func_approx.QFuncMedThreelayer'>     147.000          413.46  "
      ]
     },
     "execution_count": 5,
     "metadata": {},
     "output_type": "execute_result"
    }
   ],
   "source": [
    "results_Q.sort_values('mean_score').tail(10)"
   ]
  },
  {
   "cell_type": "code",
   "execution_count": 19,
   "id": "e849eebe-7808-46e6-8dd8-85c600f79b62",
   "metadata": {},
   "outputs": [
    {
     "name": "stdout",
     "output_type": "stream",
     "text": [
      "3\n"
     ]
    }
   ],
   "source": [
    "best = gs_Q_exp._results[293].mean(axis = 1).argmax()\n",
    "print(best)\n",
    "rewards = gs_Q_exp._results[293][best]"
   ]
  },
  {
   "cell_type": "code",
   "execution_count": 20,
   "id": "480cf05d-5dce-4a30-8c67-40e1e864d43d",
   "metadata": {},
   "outputs": [],
   "source": [
    "rewards = pd.DataFrame(rewards).reset_index()\n",
    "rewards.columns = [\"episode\", \"reward\"]\n"
   ]
  },
  {
   "cell_type": "code",
   "execution_count": 21,
   "id": "de76fb31-f25d-4c48-8f6e-601180ad88b7",
   "metadata": {},
   "outputs": [
    {
     "data": {
      "text/html": [
       "\n",
       "<div id=\"altair-viz-066cd5f7a0c34ecbba24c3a91f51ee48\"></div>\n",
       "<script type=\"text/javascript\">\n",
       "  (function(spec, embedOpt){\n",
       "    let outputDiv = document.currentScript.previousElementSibling;\n",
       "    if (outputDiv.id !== \"altair-viz-066cd5f7a0c34ecbba24c3a91f51ee48\") {\n",
       "      outputDiv = document.getElementById(\"altair-viz-066cd5f7a0c34ecbba24c3a91f51ee48\");\n",
       "    }\n",
       "    const paths = {\n",
       "      \"vega\": \"https://cdn.jsdelivr.net/npm//vega@5?noext\",\n",
       "      \"vega-lib\": \"https://cdn.jsdelivr.net/npm//vega-lib?noext\",\n",
       "      \"vega-lite\": \"https://cdn.jsdelivr.net/npm//vega-lite@4.8.1?noext\",\n",
       "      \"vega-embed\": \"https://cdn.jsdelivr.net/npm//vega-embed@6?noext\",\n",
       "    };\n",
       "\n",
       "    function loadScript(lib) {\n",
       "      return new Promise(function(resolve, reject) {\n",
       "        var s = document.createElement('script');\n",
       "        s.src = paths[lib];\n",
       "        s.async = true;\n",
       "        s.onload = () => resolve(paths[lib]);\n",
       "        s.onerror = () => reject(`Error loading script: ${paths[lib]}`);\n",
       "        document.getElementsByTagName(\"head\")[0].appendChild(s);\n",
       "      });\n",
       "    }\n",
       "\n",
       "    function showError(err) {\n",
       "      outputDiv.innerHTML = `<div class=\"error\" style=\"color:red;\">${err}</div>`;\n",
       "      throw err;\n",
       "    }\n",
       "\n",
       "    function displayChart(vegaEmbed) {\n",
       "      vegaEmbed(outputDiv, spec, embedOpt)\n",
       "        .catch(err => showError(`Javascript Error: ${err.message}<br>This usually means there's a typo in your chart specification. See the javascript console for the full traceback.`));\n",
       "    }\n",
       "\n",
       "    if(typeof define === \"function\" && define.amd) {\n",
       "      requirejs.config({paths});\n",
       "      require([\"vega-embed\"], displayChart, err => showError(`Error loading script: ${err.message}`));\n",
       "    } else if (typeof vegaEmbed === \"function\") {\n",
       "      displayChart(vegaEmbed);\n",
       "    } else {\n",
       "      loadScript(\"vega\")\n",
       "        .then(() => loadScript(\"vega-lite\"))\n",
       "        .then(() => loadScript(\"vega-embed\"))\n",
       "        .catch(showError)\n",
       "        .then(() => displayChart(vegaEmbed));\n",
       "    }\n",
       "  })({\"config\": {\"view\": {\"continuousWidth\": 400, \"continuousHeight\": 300}}, \"data\": {\"name\": \"data-00907d69390323f8e877a169f97b2fc3\"}, \"mark\": \"point\", \"encoding\": {\"x\": {\"type\": \"quantitative\", \"field\": \"episode\"}, \"y\": {\"type\": \"quantitative\", \"field\": \"reward\"}}, \"$schema\": \"https://vega.github.io/schema/vega-lite/v4.8.1.json\", \"datasets\": {\"data-00907d69390323f8e877a169f97b2fc3\": [{\"episode\": 0, \"reward\": 500.0}, {\"episode\": 1, \"reward\": 500.0}, {\"episode\": 2, \"reward\": 500.0}, {\"episode\": 3, \"reward\": 500.0}, {\"episode\": 4, \"reward\": 500.0}, {\"episode\": 5, \"reward\": 500.0}, {\"episode\": 6, \"reward\": 215.0}, {\"episode\": 7, \"reward\": 500.0}, {\"episode\": 8, \"reward\": 208.0}, {\"episode\": 9, \"reward\": 250.0}, {\"episode\": 10, \"reward\": 180.0}, {\"episode\": 11, \"reward\": 500.0}, {\"episode\": 12, \"reward\": 500.0}, {\"episode\": 13, \"reward\": 173.0}, {\"episode\": 14, \"reward\": 500.0}, {\"episode\": 15, \"reward\": 175.0}, {\"episode\": 16, \"reward\": 500.0}, {\"episode\": 17, \"reward\": 500.0}, {\"episode\": 18, \"reward\": 472.0}, {\"episode\": 19, \"reward\": 500.0}, {\"episode\": 20, \"reward\": 355.0}, {\"episode\": 21, \"reward\": 500.0}, {\"episode\": 22, \"reward\": 210.0}, {\"episode\": 23, \"reward\": 500.0}, {\"episode\": 24, \"reward\": 181.0}, {\"episode\": 25, \"reward\": 176.0}, {\"episode\": 26, \"reward\": 500.0}, {\"episode\": 27, \"reward\": 500.0}, {\"episode\": 28, \"reward\": 500.0}, {\"episode\": 29, \"reward\": 500.0}, {\"episode\": 30, \"reward\": 174.0}, {\"episode\": 31, \"reward\": 500.0}, {\"episode\": 32, \"reward\": 500.0}, {\"episode\": 33, \"reward\": 500.0}, {\"episode\": 34, \"reward\": 500.0}, {\"episode\": 35, \"reward\": 350.0}, {\"episode\": 36, \"reward\": 355.0}, {\"episode\": 37, \"reward\": 500.0}, {\"episode\": 38, \"reward\": 500.0}, {\"episode\": 39, \"reward\": 500.0}, {\"episode\": 40, \"reward\": 500.0}, {\"episode\": 41, \"reward\": 500.0}, {\"episode\": 42, \"reward\": 229.0}, {\"episode\": 43, \"reward\": 500.0}, {\"episode\": 44, \"reward\": 500.0}, {\"episode\": 45, \"reward\": 500.0}, {\"episode\": 46, \"reward\": 252.0}, {\"episode\": 47, \"reward\": 500.0}, {\"episode\": 48, \"reward\": 500.0}, {\"episode\": 49, \"reward\": 500.0}, {\"episode\": 50, \"reward\": 500.0}, {\"episode\": 51, \"reward\": 500.0}, {\"episode\": 52, \"reward\": 176.0}, {\"episode\": 53, \"reward\": 500.0}, {\"episode\": 54, \"reward\": 185.0}, {\"episode\": 55, \"reward\": 500.0}, {\"episode\": 56, \"reward\": 500.0}, {\"episode\": 57, \"reward\": 500.0}, {\"episode\": 58, \"reward\": 196.0}, {\"episode\": 59, \"reward\": 404.0}, {\"episode\": 60, \"reward\": 163.0}, {\"episode\": 61, \"reward\": 212.0}, {\"episode\": 62, \"reward\": 437.0}, {\"episode\": 63, \"reward\": 441.0}, {\"episode\": 64, \"reward\": 226.0}, {\"episode\": 65, \"reward\": 500.0}, {\"episode\": 66, \"reward\": 179.0}, {\"episode\": 67, \"reward\": 203.0}, {\"episode\": 68, \"reward\": 221.0}, {\"episode\": 69, \"reward\": 500.0}, {\"episode\": 70, \"reward\": 202.0}, {\"episode\": 71, \"reward\": 500.0}, {\"episode\": 72, \"reward\": 500.0}, {\"episode\": 73, \"reward\": 500.0}, {\"episode\": 74, \"reward\": 221.0}, {\"episode\": 75, \"reward\": 500.0}, {\"episode\": 76, \"reward\": 500.0}, {\"episode\": 77, \"reward\": 500.0}, {\"episode\": 78, \"reward\": 500.0}, {\"episode\": 79, \"reward\": 360.0}, {\"episode\": 80, \"reward\": 500.0}, {\"episode\": 81, \"reward\": 500.0}, {\"episode\": 82, \"reward\": 500.0}, {\"episode\": 83, \"reward\": 500.0}, {\"episode\": 84, \"reward\": 500.0}, {\"episode\": 85, \"reward\": 333.0}, {\"episode\": 86, \"reward\": 500.0}, {\"episode\": 87, \"reward\": 500.0}, {\"episode\": 88, \"reward\": 500.0}, {\"episode\": 89, \"reward\": 500.0}, {\"episode\": 90, \"reward\": 354.0}, {\"episode\": 91, \"reward\": 500.0}, {\"episode\": 92, \"reward\": 500.0}, {\"episode\": 93, \"reward\": 500.0}, {\"episode\": 94, \"reward\": 500.0}, {\"episode\": 95, \"reward\": 170.0}, {\"episode\": 96, \"reward\": 395.0}, {\"episode\": 97, \"reward\": 325.0}, {\"episode\": 98, \"reward\": 488.0}, {\"episode\": 99, \"reward\": 500.0}]}}, {\"mode\": \"vega-lite\"});\n",
       "</script>"
      ],
      "text/plain": [
       "alt.Chart(...)"
      ]
     },
     "execution_count": 21,
     "metadata": {},
     "output_type": "execute_result"
    }
   ],
   "source": [
    "alt.Chart(rewards).mark_point().encode(x=\"episode\", y=\"reward\") "
   ]
  },
  {
   "cell_type": "code",
   "execution_count": 25,
   "id": "49c09fe1-28b7-4cf5-a667-4461a01f1c28",
   "metadata": {},
   "outputs": [],
   "source": [
    "runner = GymRunner('CartPole-v1', display_metrics = True)\n",
    "num_actions = runner.env.action_space.n\n",
    "state_dim = runner.env.observation_space.shape[0]\n",
    "\n",
    "best_q_func = QFuncMedThreelayer(alpha = 0.01, loss_func = 'mse', optimizer = 'Adam', num_actions=num_actions, state_dim  = state_dim)\n",
    "best_agent = QLearningAgentExperienceReplay(best_q_func, gamma = .99, num_actions = num_actions, state_dim = state_dim)"
   ]
  },
  {
   "cell_type": "code",
   "execution_count": 27,
   "id": "6a79fe2c-87a7-435e-a1d0-8cc5277370f8",
   "metadata": {},
   "outputs": [
    {
     "name": "stdout",
     "output_type": "stream",
     "text": [
      "Epsilon:  0.1375201748252333\n",
      "Current Reward:  16.0\n",
      "Episode:  990\n"
     ]
    }
   ],
   "source": [
    "train_rewards = runner.train(best_agent)"
   ]
  },
  {
   "cell_type": "code",
   "execution_count": 29,
   "id": "2b6d1ed4-6f5c-4d58-b389-c5278485d097",
   "metadata": {},
   "outputs": [],
   "source": [
    "test_rewards = runner.attempt(best_agent, num_episodes = 100)"
   ]
  },
  {
   "cell_type": "code",
   "execution_count": 30,
   "id": "e0d8ea2c-4354-432b-8518-834bd304c6a3",
   "metadata": {},
   "outputs": [],
   "source": [
    "train_rewards = pd.DataFrame(train_rewards).reset_index()\n",
    "train_rewards.columns = [\"episode\", \"reward\"]\n",
    "\n",
    "test_rewards = pd.DataFrame(test_rewards).reset_index()\n",
    "test_rewards.columns = [\"episode\", \"reward\"]"
   ]
  },
  {
   "cell_type": "code",
   "execution_count": 32,
   "id": "1d89cfca-b609-4148-9a6e-4e2316834bde",
   "metadata": {},
   "outputs": [
    {
     "data": {
      "text/html": [
       "\n",
       "<div id=\"altair-viz-c338ddf3e91f40b1abf3d35a0727db9f\"></div>\n",
       "<script type=\"text/javascript\">\n",
       "  (function(spec, embedOpt){\n",
       "    let outputDiv = document.currentScript.previousElementSibling;\n",
       "    if (outputDiv.id !== \"altair-viz-c338ddf3e91f40b1abf3d35a0727db9f\") {\n",
       "      outputDiv = document.getElementById(\"altair-viz-c338ddf3e91f40b1abf3d35a0727db9f\");\n",
       "    }\n",
       "    const paths = {\n",
       "      \"vega\": \"https://cdn.jsdelivr.net/npm//vega@5?noext\",\n",
       "      \"vega-lib\": \"https://cdn.jsdelivr.net/npm//vega-lib?noext\",\n",
       "      \"vega-lite\": \"https://cdn.jsdelivr.net/npm//vega-lite@4.8.1?noext\",\n",
       "      \"vega-embed\": \"https://cdn.jsdelivr.net/npm//vega-embed@6?noext\",\n",
       "    };\n",
       "\n",
       "    function loadScript(lib) {\n",
       "      return new Promise(function(resolve, reject) {\n",
       "        var s = document.createElement('script');\n",
       "        s.src = paths[lib];\n",
       "        s.async = true;\n",
       "        s.onload = () => resolve(paths[lib]);\n",
       "        s.onerror = () => reject(`Error loading script: ${paths[lib]}`);\n",
       "        document.getElementsByTagName(\"head\")[0].appendChild(s);\n",
       "      });\n",
       "    }\n",
       "\n",
       "    function showError(err) {\n",
       "      outputDiv.innerHTML = `<div class=\"error\" style=\"color:red;\">${err}</div>`;\n",
       "      throw err;\n",
       "    }\n",
       "\n",
       "    function displayChart(vegaEmbed) {\n",
       "      vegaEmbed(outputDiv, spec, embedOpt)\n",
       "        .catch(err => showError(`Javascript Error: ${err.message}<br>This usually means there's a typo in your chart specification. See the javascript console for the full traceback.`));\n",
       "    }\n",
       "\n",
       "    if(typeof define === \"function\" && define.amd) {\n",
       "      requirejs.config({paths});\n",
       "      require([\"vega-embed\"], displayChart, err => showError(`Error loading script: ${err.message}`));\n",
       "    } else if (typeof vegaEmbed === \"function\") {\n",
       "      displayChart(vegaEmbed);\n",
       "    } else {\n",
       "      loadScript(\"vega\")\n",
       "        .then(() => loadScript(\"vega-lite\"))\n",
       "        .then(() => loadScript(\"vega-embed\"))\n",
       "        .catch(showError)\n",
       "        .then(() => displayChart(vegaEmbed));\n",
       "    }\n",
       "  })({\"config\": {\"view\": {\"continuousWidth\": 400, \"continuousHeight\": 300}}, \"hconcat\": [{\"data\": {\"name\": \"data-c0ce35d1fe8fbab3121b75e6ce7b1e3e\"}, \"mark\": \"point\", \"encoding\": {\"x\": {\"type\": \"quantitative\", \"field\": \"episode\"}, \"y\": {\"type\": \"quantitative\", \"field\": \"reward\"}}}, {\"data\": {\"name\": \"data-3df07c75c72e68315503b421b8b7c444\"}, \"mark\": \"point\", \"encoding\": {\"x\": {\"type\": \"quantitative\", \"field\": \"episode\"}, \"y\": {\"type\": \"quantitative\", \"field\": \"reward\"}}}], \"$schema\": \"https://vega.github.io/schema/vega-lite/v4.8.1.json\", \"datasets\": {\"data-c0ce35d1fe8fbab3121b75e6ce7b1e3e\": [{\"episode\": 0, \"reward\": 12.0}, {\"episode\": 1, \"reward\": 22.0}, {\"episode\": 2, \"reward\": 20.0}, {\"episode\": 3, \"reward\": 21.0}, {\"episode\": 4, \"reward\": 21.0}, {\"episode\": 5, \"reward\": 15.0}, {\"episode\": 6, \"reward\": 45.0}, {\"episode\": 7, \"reward\": 55.0}, {\"episode\": 8, \"reward\": 13.0}, {\"episode\": 9, \"reward\": 30.0}, {\"episode\": 10, \"reward\": 22.0}, {\"episode\": 11, \"reward\": 18.0}, {\"episode\": 12, \"reward\": 16.0}, {\"episode\": 13, \"reward\": 41.0}, {\"episode\": 14, \"reward\": 16.0}, {\"episode\": 15, \"reward\": 48.0}, {\"episode\": 16, \"reward\": 16.0}, {\"episode\": 17, \"reward\": 42.0}, {\"episode\": 18, \"reward\": 13.0}, {\"episode\": 19, \"reward\": 16.0}, {\"episode\": 20, \"reward\": 14.0}, {\"episode\": 21, \"reward\": 14.0}, {\"episode\": 22, \"reward\": 14.0}, {\"episode\": 23, \"reward\": 16.0}, {\"episode\": 24, \"reward\": 41.0}, {\"episode\": 25, \"reward\": 33.0}, {\"episode\": 26, \"reward\": 14.0}, {\"episode\": 27, \"reward\": 43.0}, {\"episode\": 28, \"reward\": 12.0}, {\"episode\": 29, \"reward\": 19.0}, {\"episode\": 30, \"reward\": 16.0}, {\"episode\": 31, \"reward\": 24.0}, {\"episode\": 32, \"reward\": 19.0}, {\"episode\": 33, \"reward\": 10.0}, {\"episode\": 34, \"reward\": 17.0}, {\"episode\": 35, \"reward\": 17.0}, {\"episode\": 36, \"reward\": 13.0}, {\"episode\": 37, \"reward\": 9.0}, {\"episode\": 38, \"reward\": 16.0}, {\"episode\": 39, \"reward\": 16.0}, {\"episode\": 40, \"reward\": 13.0}, {\"episode\": 41, \"reward\": 26.0}, {\"episode\": 42, \"reward\": 18.0}, {\"episode\": 43, \"reward\": 17.0}, {\"episode\": 44, \"reward\": 13.0}, {\"episode\": 45, \"reward\": 11.0}, {\"episode\": 46, \"reward\": 13.0}, {\"episode\": 47, \"reward\": 15.0}, {\"episode\": 48, \"reward\": 15.0}, {\"episode\": 49, \"reward\": 11.0}, {\"episode\": 50, \"reward\": 29.0}, {\"episode\": 51, \"reward\": 9.0}, {\"episode\": 52, \"reward\": 9.0}, {\"episode\": 53, \"reward\": 9.0}, {\"episode\": 54, \"reward\": 23.0}, {\"episode\": 55, \"reward\": 11.0}, {\"episode\": 56, \"reward\": 32.0}, {\"episode\": 57, \"reward\": 26.0}, {\"episode\": 58, \"reward\": 15.0}, {\"episode\": 59, \"reward\": 16.0}, {\"episode\": 60, \"reward\": 15.0}, {\"episode\": 61, \"reward\": 36.0}, {\"episode\": 62, \"reward\": 10.0}, {\"episode\": 63, \"reward\": 9.0}, {\"episode\": 64, \"reward\": 11.0}, {\"episode\": 65, \"reward\": 62.0}, {\"episode\": 66, \"reward\": 13.0}, {\"episode\": 67, \"reward\": 13.0}, {\"episode\": 68, \"reward\": 18.0}, {\"episode\": 69, \"reward\": 12.0}, {\"episode\": 70, \"reward\": 16.0}, {\"episode\": 71, \"reward\": 10.0}, {\"episode\": 72, \"reward\": 22.0}, {\"episode\": 73, \"reward\": 14.0}, {\"episode\": 74, \"reward\": 19.0}, {\"episode\": 75, \"reward\": 14.0}, {\"episode\": 76, \"reward\": 17.0}, {\"episode\": 77, \"reward\": 10.0}, {\"episode\": 78, \"reward\": 40.0}, {\"episode\": 79, \"reward\": 25.0}, {\"episode\": 80, \"reward\": 17.0}, {\"episode\": 81, \"reward\": 12.0}, {\"episode\": 82, \"reward\": 26.0}, {\"episode\": 83, \"reward\": 31.0}, {\"episode\": 84, \"reward\": 20.0}, {\"episode\": 85, \"reward\": 30.0}, {\"episode\": 86, \"reward\": 15.0}, {\"episode\": 87, \"reward\": 14.0}, {\"episode\": 88, \"reward\": 50.0}, {\"episode\": 89, \"reward\": 18.0}, {\"episode\": 90, \"reward\": 25.0}, {\"episode\": 91, \"reward\": 27.0}, {\"episode\": 92, \"reward\": 19.0}, {\"episode\": 93, \"reward\": 17.0}, {\"episode\": 94, \"reward\": 52.0}, {\"episode\": 95, \"reward\": 20.0}, {\"episode\": 96, \"reward\": 18.0}, {\"episode\": 97, \"reward\": 12.0}, {\"episode\": 98, \"reward\": 64.0}, {\"episode\": 99, \"reward\": 12.0}, {\"episode\": 100, \"reward\": 9.0}, {\"episode\": 101, \"reward\": 17.0}, {\"episode\": 102, \"reward\": 16.0}, {\"episode\": 103, \"reward\": 15.0}, {\"episode\": 104, \"reward\": 22.0}, {\"episode\": 105, \"reward\": 20.0}, {\"episode\": 106, \"reward\": 16.0}, {\"episode\": 107, \"reward\": 18.0}, {\"episode\": 108, \"reward\": 40.0}, {\"episode\": 109, \"reward\": 17.0}, {\"episode\": 110, \"reward\": 18.0}, {\"episode\": 111, \"reward\": 11.0}, {\"episode\": 112, \"reward\": 13.0}, {\"episode\": 113, \"reward\": 18.0}, {\"episode\": 114, \"reward\": 14.0}, {\"episode\": 115, \"reward\": 21.0}, {\"episode\": 116, \"reward\": 36.0}, {\"episode\": 117, \"reward\": 15.0}, {\"episode\": 118, \"reward\": 21.0}, {\"episode\": 119, \"reward\": 14.0}, {\"episode\": 120, \"reward\": 17.0}, {\"episode\": 121, \"reward\": 11.0}, {\"episode\": 122, \"reward\": 23.0}, {\"episode\": 123, \"reward\": 45.0}, {\"episode\": 124, \"reward\": 13.0}, {\"episode\": 125, \"reward\": 23.0}, {\"episode\": 126, \"reward\": 15.0}, {\"episode\": 127, \"reward\": 10.0}, {\"episode\": 128, \"reward\": 19.0}, {\"episode\": 129, \"reward\": 12.0}, {\"episode\": 130, \"reward\": 32.0}, {\"episode\": 131, \"reward\": 17.0}, {\"episode\": 132, \"reward\": 15.0}, {\"episode\": 133, \"reward\": 13.0}, {\"episode\": 134, \"reward\": 13.0}, {\"episode\": 135, \"reward\": 11.0}, {\"episode\": 136, \"reward\": 17.0}, {\"episode\": 137, \"reward\": 16.0}, {\"episode\": 138, \"reward\": 16.0}, {\"episode\": 139, \"reward\": 18.0}, {\"episode\": 140, \"reward\": 13.0}, {\"episode\": 141, \"reward\": 16.0}, {\"episode\": 142, \"reward\": 14.0}, {\"episode\": 143, \"reward\": 21.0}, {\"episode\": 144, \"reward\": 16.0}, {\"episode\": 145, \"reward\": 17.0}, {\"episode\": 146, \"reward\": 24.0}, {\"episode\": 147, \"reward\": 18.0}, {\"episode\": 148, \"reward\": 20.0}, {\"episode\": 149, \"reward\": 36.0}, {\"episode\": 150, \"reward\": 15.0}, {\"episode\": 151, \"reward\": 9.0}, {\"episode\": 152, \"reward\": 16.0}, {\"episode\": 153, \"reward\": 14.0}, {\"episode\": 154, \"reward\": 10.0}, {\"episode\": 155, \"reward\": 11.0}, {\"episode\": 156, \"reward\": 14.0}, {\"episode\": 157, \"reward\": 18.0}, {\"episode\": 158, \"reward\": 9.0}, {\"episode\": 159, \"reward\": 25.0}, {\"episode\": 160, \"reward\": 33.0}, {\"episode\": 161, \"reward\": 16.0}, {\"episode\": 162, \"reward\": 23.0}, {\"episode\": 163, \"reward\": 20.0}, {\"episode\": 164, \"reward\": 45.0}, {\"episode\": 165, \"reward\": 9.0}, {\"episode\": 166, \"reward\": 18.0}, {\"episode\": 167, \"reward\": 12.0}, {\"episode\": 168, \"reward\": 12.0}, {\"episode\": 169, \"reward\": 13.0}, {\"episode\": 170, \"reward\": 29.0}, {\"episode\": 171, \"reward\": 17.0}, {\"episode\": 172, \"reward\": 22.0}, {\"episode\": 173, \"reward\": 16.0}, {\"episode\": 174, \"reward\": 13.0}, {\"episode\": 175, \"reward\": 13.0}, {\"episode\": 176, \"reward\": 12.0}, {\"episode\": 177, \"reward\": 30.0}, {\"episode\": 178, \"reward\": 20.0}, {\"episode\": 179, \"reward\": 12.0}, {\"episode\": 180, \"reward\": 19.0}, {\"episode\": 181, \"reward\": 15.0}, {\"episode\": 182, \"reward\": 15.0}, {\"episode\": 183, \"reward\": 18.0}, {\"episode\": 184, \"reward\": 14.0}, {\"episode\": 185, \"reward\": 16.0}, {\"episode\": 186, \"reward\": 13.0}, {\"episode\": 187, \"reward\": 41.0}, {\"episode\": 188, \"reward\": 13.0}, {\"episode\": 189, \"reward\": 16.0}, {\"episode\": 190, \"reward\": 42.0}, {\"episode\": 191, \"reward\": 17.0}, {\"episode\": 192, \"reward\": 29.0}, {\"episode\": 193, \"reward\": 11.0}, {\"episode\": 194, \"reward\": 25.0}, {\"episode\": 195, \"reward\": 17.0}, {\"episode\": 196, \"reward\": 11.0}, {\"episode\": 197, \"reward\": 16.0}, {\"episode\": 198, \"reward\": 12.0}, {\"episode\": 199, \"reward\": 17.0}, {\"episode\": 200, \"reward\": 34.0}, {\"episode\": 201, \"reward\": 34.0}, {\"episode\": 202, \"reward\": 14.0}, {\"episode\": 203, \"reward\": 16.0}, {\"episode\": 204, \"reward\": 18.0}, {\"episode\": 205, \"reward\": 13.0}, {\"episode\": 206, \"reward\": 10.0}, {\"episode\": 207, \"reward\": 11.0}, {\"episode\": 208, \"reward\": 15.0}, {\"episode\": 209, \"reward\": 11.0}, {\"episode\": 210, \"reward\": 13.0}, {\"episode\": 211, \"reward\": 9.0}, {\"episode\": 212, \"reward\": 17.0}, {\"episode\": 213, \"reward\": 25.0}, {\"episode\": 214, \"reward\": 18.0}, {\"episode\": 215, \"reward\": 16.0}, {\"episode\": 216, \"reward\": 18.0}, {\"episode\": 217, \"reward\": 12.0}, {\"episode\": 218, \"reward\": 9.0}, {\"episode\": 219, \"reward\": 25.0}, {\"episode\": 220, \"reward\": 8.0}, {\"episode\": 221, \"reward\": 16.0}, {\"episode\": 222, \"reward\": 13.0}, {\"episode\": 223, \"reward\": 32.0}, {\"episode\": 224, \"reward\": 15.0}, {\"episode\": 225, \"reward\": 16.0}, {\"episode\": 226, \"reward\": 11.0}, {\"episode\": 227, \"reward\": 16.0}, {\"episode\": 228, \"reward\": 15.0}, {\"episode\": 229, \"reward\": 10.0}, {\"episode\": 230, \"reward\": 17.0}, {\"episode\": 231, \"reward\": 14.0}, {\"episode\": 232, \"reward\": 11.0}, {\"episode\": 233, \"reward\": 11.0}, {\"episode\": 234, \"reward\": 22.0}, {\"episode\": 235, \"reward\": 17.0}, {\"episode\": 236, \"reward\": 16.0}, {\"episode\": 237, \"reward\": 16.0}, {\"episode\": 238, \"reward\": 16.0}, {\"episode\": 239, \"reward\": 10.0}, {\"episode\": 240, \"reward\": 16.0}, {\"episode\": 241, \"reward\": 40.0}, {\"episode\": 242, \"reward\": 12.0}, {\"episode\": 243, \"reward\": 19.0}, {\"episode\": 244, \"reward\": 12.0}, {\"episode\": 245, \"reward\": 13.0}, {\"episode\": 246, \"reward\": 16.0}, {\"episode\": 247, \"reward\": 13.0}, {\"episode\": 248, \"reward\": 27.0}, {\"episode\": 249, \"reward\": 12.0}, {\"episode\": 250, \"reward\": 27.0}, {\"episode\": 251, \"reward\": 15.0}, {\"episode\": 252, \"reward\": 14.0}, {\"episode\": 253, \"reward\": 19.0}, {\"episode\": 254, \"reward\": 12.0}, {\"episode\": 255, \"reward\": 11.0}, {\"episode\": 256, \"reward\": 12.0}, {\"episode\": 257, \"reward\": 21.0}, {\"episode\": 258, \"reward\": 18.0}, {\"episode\": 259, \"reward\": 28.0}, {\"episode\": 260, \"reward\": 25.0}, {\"episode\": 261, \"reward\": 17.0}, {\"episode\": 262, \"reward\": 12.0}, {\"episode\": 263, \"reward\": 21.0}, {\"episode\": 264, \"reward\": 12.0}, {\"episode\": 265, \"reward\": 16.0}, {\"episode\": 266, \"reward\": 9.0}, {\"episode\": 267, \"reward\": 16.0}, {\"episode\": 268, \"reward\": 41.0}, {\"episode\": 269, \"reward\": 16.0}, {\"episode\": 270, \"reward\": 20.0}, {\"episode\": 271, \"reward\": 17.0}, {\"episode\": 272, \"reward\": 9.0}, {\"episode\": 273, \"reward\": 18.0}, {\"episode\": 274, \"reward\": 16.0}, {\"episode\": 275, \"reward\": 15.0}, {\"episode\": 276, \"reward\": 14.0}, {\"episode\": 277, \"reward\": 15.0}, {\"episode\": 278, \"reward\": 16.0}, {\"episode\": 279, \"reward\": 37.0}, {\"episode\": 280, \"reward\": 40.0}, {\"episode\": 281, \"reward\": 36.0}, {\"episode\": 282, \"reward\": 20.0}, {\"episode\": 283, \"reward\": 17.0}, {\"episode\": 284, \"reward\": 14.0}, {\"episode\": 285, \"reward\": 32.0}, {\"episode\": 286, \"reward\": 23.0}, {\"episode\": 287, \"reward\": 26.0}, {\"episode\": 288, \"reward\": 27.0}, {\"episode\": 289, \"reward\": 14.0}, {\"episode\": 290, \"reward\": 13.0}, {\"episode\": 291, \"reward\": 11.0}, {\"episode\": 292, \"reward\": 11.0}, {\"episode\": 293, \"reward\": 14.0}, {\"episode\": 294, \"reward\": 18.0}, {\"episode\": 295, \"reward\": 21.0}, {\"episode\": 296, \"reward\": 11.0}, {\"episode\": 297, \"reward\": 13.0}, {\"episode\": 298, \"reward\": 10.0}, {\"episode\": 299, \"reward\": 10.0}, {\"episode\": 300, \"reward\": 41.0}, {\"episode\": 301, \"reward\": 11.0}, {\"episode\": 302, \"reward\": 9.0}, {\"episode\": 303, \"reward\": 15.0}, {\"episode\": 304, \"reward\": 11.0}, {\"episode\": 305, \"reward\": 13.0}, {\"episode\": 306, \"reward\": 11.0}, {\"episode\": 307, \"reward\": 40.0}, {\"episode\": 308, \"reward\": 14.0}, {\"episode\": 309, \"reward\": 13.0}, {\"episode\": 310, \"reward\": 11.0}, {\"episode\": 311, \"reward\": 10.0}, {\"episode\": 312, \"reward\": 12.0}, {\"episode\": 313, \"reward\": 12.0}, {\"episode\": 314, \"reward\": 10.0}, {\"episode\": 315, \"reward\": 10.0}, {\"episode\": 316, \"reward\": 13.0}, {\"episode\": 317, \"reward\": 18.0}, {\"episode\": 318, \"reward\": 13.0}, {\"episode\": 319, \"reward\": 14.0}, {\"episode\": 320, \"reward\": 20.0}, {\"episode\": 321, \"reward\": 12.0}, {\"episode\": 322, \"reward\": 10.0}, {\"episode\": 323, \"reward\": 39.0}, {\"episode\": 324, \"reward\": 10.0}, {\"episode\": 325, \"reward\": 11.0}, {\"episode\": 326, \"reward\": 15.0}, {\"episode\": 327, \"reward\": 19.0}, {\"episode\": 328, \"reward\": 44.0}, {\"episode\": 329, \"reward\": 27.0}, {\"episode\": 330, \"reward\": 14.0}, {\"episode\": 331, \"reward\": 19.0}, {\"episode\": 332, \"reward\": 23.0}, {\"episode\": 333, \"reward\": 21.0}, {\"episode\": 334, \"reward\": 27.0}, {\"episode\": 335, \"reward\": 12.0}, {\"episode\": 336, \"reward\": 20.0}, {\"episode\": 337, \"reward\": 14.0}, {\"episode\": 338, \"reward\": 12.0}, {\"episode\": 339, \"reward\": 12.0}, {\"episode\": 340, \"reward\": 30.0}, {\"episode\": 341, \"reward\": 14.0}, {\"episode\": 342, \"reward\": 17.0}, {\"episode\": 343, \"reward\": 25.0}, {\"episode\": 344, \"reward\": 16.0}, {\"episode\": 345, \"reward\": 29.0}, {\"episode\": 346, \"reward\": 95.0}, {\"episode\": 347, \"reward\": 63.0}, {\"episode\": 348, \"reward\": 46.0}, {\"episode\": 349, \"reward\": 30.0}, {\"episode\": 350, \"reward\": 28.0}, {\"episode\": 351, \"reward\": 225.0}, {\"episode\": 352, \"reward\": 92.0}, {\"episode\": 353, \"reward\": 69.0}, {\"episode\": 354, \"reward\": 24.0}, {\"episode\": 355, \"reward\": 33.0}, {\"episode\": 356, \"reward\": 12.0}, {\"episode\": 357, \"reward\": 12.0}, {\"episode\": 358, \"reward\": 9.0}, {\"episode\": 359, \"reward\": 14.0}, {\"episode\": 360, \"reward\": 22.0}, {\"episode\": 361, \"reward\": 14.0}, {\"episode\": 362, \"reward\": 18.0}, {\"episode\": 363, \"reward\": 12.0}, {\"episode\": 364, \"reward\": 22.0}, {\"episode\": 365, \"reward\": 21.0}, {\"episode\": 366, \"reward\": 32.0}, {\"episode\": 367, \"reward\": 46.0}, {\"episode\": 368, \"reward\": 92.0}, {\"episode\": 369, \"reward\": 104.0}, {\"episode\": 370, \"reward\": 16.0}, {\"episode\": 371, \"reward\": 46.0}, {\"episode\": 372, \"reward\": 33.0}, {\"episode\": 373, \"reward\": 31.0}, {\"episode\": 374, \"reward\": 25.0}, {\"episode\": 375, \"reward\": 20.0}, {\"episode\": 376, \"reward\": 41.0}, {\"episode\": 377, \"reward\": 28.0}, {\"episode\": 378, \"reward\": 35.0}, {\"episode\": 379, \"reward\": 301.0}, {\"episode\": 380, \"reward\": 137.0}, {\"episode\": 381, \"reward\": 123.0}, {\"episode\": 382, \"reward\": 16.0}, {\"episode\": 383, \"reward\": 21.0}, {\"episode\": 384, \"reward\": 14.0}, {\"episode\": 385, \"reward\": 137.0}, {\"episode\": 386, \"reward\": 24.0}, {\"episode\": 387, \"reward\": 88.0}, {\"episode\": 388, \"reward\": 36.0}, {\"episode\": 389, \"reward\": 30.0}, {\"episode\": 390, \"reward\": 25.0}, {\"episode\": 391, \"reward\": 17.0}, {\"episode\": 392, \"reward\": 13.0}, {\"episode\": 393, \"reward\": 33.0}, {\"episode\": 394, \"reward\": 14.0}, {\"episode\": 395, \"reward\": 19.0}, {\"episode\": 396, \"reward\": 30.0}, {\"episode\": 397, \"reward\": 43.0}, {\"episode\": 398, \"reward\": 60.0}, {\"episode\": 399, \"reward\": 37.0}, {\"episode\": 400, \"reward\": 54.0}, {\"episode\": 401, \"reward\": 133.0}, {\"episode\": 402, \"reward\": 108.0}, {\"episode\": 403, \"reward\": 35.0}, {\"episode\": 404, \"reward\": 70.0}, {\"episode\": 405, \"reward\": 60.0}, {\"episode\": 406, \"reward\": 51.0}, {\"episode\": 407, \"reward\": 28.0}, {\"episode\": 408, \"reward\": 26.0}, {\"episode\": 409, \"reward\": 24.0}, {\"episode\": 410, \"reward\": 24.0}, {\"episode\": 411, \"reward\": 118.0}, {\"episode\": 412, \"reward\": 34.0}, {\"episode\": 413, \"reward\": 137.0}, {\"episode\": 414, \"reward\": 115.0}, {\"episode\": 415, \"reward\": 24.0}, {\"episode\": 416, \"reward\": 15.0}, {\"episode\": 417, \"reward\": 10.0}, {\"episode\": 418, \"reward\": 10.0}, {\"episode\": 419, \"reward\": 16.0}, {\"episode\": 420, \"reward\": 10.0}, {\"episode\": 421, \"reward\": 13.0}, {\"episode\": 422, \"reward\": 18.0}, {\"episode\": 423, \"reward\": 28.0}, {\"episode\": 424, \"reward\": 47.0}, {\"episode\": 425, \"reward\": 62.0}, {\"episode\": 426, \"reward\": 38.0}, {\"episode\": 427, \"reward\": 28.0}, {\"episode\": 428, \"reward\": 29.0}, {\"episode\": 429, \"reward\": 30.0}, {\"episode\": 430, \"reward\": 67.0}, {\"episode\": 431, \"reward\": 23.0}, {\"episode\": 432, \"reward\": 39.0}, {\"episode\": 433, \"reward\": 75.0}, {\"episode\": 434, \"reward\": 98.0}, {\"episode\": 435, \"reward\": 48.0}, {\"episode\": 436, \"reward\": 42.0}, {\"episode\": 437, \"reward\": 51.0}, {\"episode\": 438, \"reward\": 55.0}, {\"episode\": 439, \"reward\": 50.0}, {\"episode\": 440, \"reward\": 60.0}, {\"episode\": 441, \"reward\": 106.0}, {\"episode\": 442, \"reward\": 190.0}, {\"episode\": 443, \"reward\": 62.0}, {\"episode\": 444, \"reward\": 84.0}, {\"episode\": 445, \"reward\": 87.0}, {\"episode\": 446, \"reward\": 111.0}, {\"episode\": 447, \"reward\": 60.0}, {\"episode\": 448, \"reward\": 33.0}, {\"episode\": 449, \"reward\": 41.0}, {\"episode\": 450, \"reward\": 32.0}, {\"episode\": 451, \"reward\": 43.0}, {\"episode\": 452, \"reward\": 115.0}, {\"episode\": 453, \"reward\": 40.0}, {\"episode\": 454, \"reward\": 38.0}, {\"episode\": 455, \"reward\": 48.0}, {\"episode\": 456, \"reward\": 44.0}, {\"episode\": 457, \"reward\": 63.0}, {\"episode\": 458, \"reward\": 23.0}, {\"episode\": 459, \"reward\": 42.0}, {\"episode\": 460, \"reward\": 50.0}, {\"episode\": 461, \"reward\": 19.0}, {\"episode\": 462, \"reward\": 37.0}, {\"episode\": 463, \"reward\": 21.0}, {\"episode\": 464, \"reward\": 18.0}, {\"episode\": 465, \"reward\": 31.0}, {\"episode\": 466, \"reward\": 17.0}, {\"episode\": 467, \"reward\": 19.0}, {\"episode\": 468, \"reward\": 19.0}, {\"episode\": 469, \"reward\": 14.0}, {\"episode\": 470, \"reward\": 19.0}, {\"episode\": 471, \"reward\": 12.0}, {\"episode\": 472, \"reward\": 13.0}, {\"episode\": 473, \"reward\": 13.0}, {\"episode\": 474, \"reward\": 16.0}, {\"episode\": 475, \"reward\": 13.0}, {\"episode\": 476, \"reward\": 22.0}, {\"episode\": 477, \"reward\": 22.0}, {\"episode\": 478, \"reward\": 59.0}, {\"episode\": 479, \"reward\": 290.0}, {\"episode\": 480, \"reward\": 35.0}, {\"episode\": 481, \"reward\": 28.0}, {\"episode\": 482, \"reward\": 25.0}, {\"episode\": 483, \"reward\": 16.0}, {\"episode\": 484, \"reward\": 16.0}, {\"episode\": 485, \"reward\": 16.0}, {\"episode\": 486, \"reward\": 18.0}, {\"episode\": 487, \"reward\": 36.0}, {\"episode\": 488, \"reward\": 34.0}, {\"episode\": 489, \"reward\": 37.0}, {\"episode\": 490, \"reward\": 89.0}, {\"episode\": 491, \"reward\": 55.0}, {\"episode\": 492, \"reward\": 20.0}, {\"episode\": 493, \"reward\": 27.0}, {\"episode\": 494, \"reward\": 27.0}, {\"episode\": 495, \"reward\": 21.0}, {\"episode\": 496, \"reward\": 23.0}, {\"episode\": 497, \"reward\": 13.0}, {\"episode\": 498, \"reward\": 28.0}, {\"episode\": 499, \"reward\": 27.0}, {\"episode\": 500, \"reward\": 19.0}, {\"episode\": 501, \"reward\": 28.0}, {\"episode\": 502, \"reward\": 14.0}, {\"episode\": 503, \"reward\": 27.0}, {\"episode\": 504, \"reward\": 32.0}, {\"episode\": 505, \"reward\": 47.0}, {\"episode\": 506, \"reward\": 79.0}, {\"episode\": 507, \"reward\": 129.0}, {\"episode\": 508, \"reward\": 44.0}, {\"episode\": 509, \"reward\": 51.0}, {\"episode\": 510, \"reward\": 23.0}, {\"episode\": 511, \"reward\": 23.0}, {\"episode\": 512, \"reward\": 32.0}, {\"episode\": 513, \"reward\": 30.0}, {\"episode\": 514, \"reward\": 19.0}, {\"episode\": 515, \"reward\": 34.0}, {\"episode\": 516, \"reward\": 28.0}, {\"episode\": 517, \"reward\": 57.0}, {\"episode\": 518, \"reward\": 77.0}, {\"episode\": 519, \"reward\": 61.0}, {\"episode\": 520, \"reward\": 18.0}, {\"episode\": 521, \"reward\": 45.0}, {\"episode\": 522, \"reward\": 87.0}, {\"episode\": 523, \"reward\": 35.0}, {\"episode\": 524, \"reward\": 58.0}, {\"episode\": 525, \"reward\": 67.0}, {\"episode\": 526, \"reward\": 183.0}, {\"episode\": 527, \"reward\": 167.0}, {\"episode\": 528, \"reward\": 73.0}, {\"episode\": 529, \"reward\": 33.0}, {\"episode\": 530, \"reward\": 18.0}, {\"episode\": 531, \"reward\": 21.0}, {\"episode\": 532, \"reward\": 23.0}, {\"episode\": 533, \"reward\": 24.0}, {\"episode\": 534, \"reward\": 23.0}, {\"episode\": 535, \"reward\": 20.0}, {\"episode\": 536, \"reward\": 40.0}, {\"episode\": 537, \"reward\": 116.0}, {\"episode\": 538, \"reward\": 36.0}, {\"episode\": 539, \"reward\": 23.0}, {\"episode\": 540, \"reward\": 18.0}, {\"episode\": 541, \"reward\": 11.0}, {\"episode\": 542, \"reward\": 18.0}, {\"episode\": 543, \"reward\": 15.0}, {\"episode\": 544, \"reward\": 22.0}, {\"episode\": 545, \"reward\": 24.0}, {\"episode\": 546, \"reward\": 17.0}, {\"episode\": 547, \"reward\": 43.0}, {\"episode\": 548, \"reward\": 77.0}, {\"episode\": 549, \"reward\": 27.0}, {\"episode\": 550, \"reward\": 17.0}, {\"episode\": 551, \"reward\": 23.0}, {\"episode\": 552, \"reward\": 13.0}, {\"episode\": 553, \"reward\": 19.0}, {\"episode\": 554, \"reward\": 21.0}, {\"episode\": 555, \"reward\": 27.0}, {\"episode\": 556, \"reward\": 32.0}, {\"episode\": 557, \"reward\": 22.0}, {\"episode\": 558, \"reward\": 100.0}, {\"episode\": 559, \"reward\": 196.0}, {\"episode\": 560, \"reward\": 34.0}, {\"episode\": 561, \"reward\": 29.0}, {\"episode\": 562, \"reward\": 24.0}, {\"episode\": 563, \"reward\": 20.0}, {\"episode\": 564, \"reward\": 18.0}, {\"episode\": 565, \"reward\": 23.0}, {\"episode\": 566, \"reward\": 26.0}, {\"episode\": 567, \"reward\": 23.0}, {\"episode\": 568, \"reward\": 14.0}, {\"episode\": 569, \"reward\": 33.0}, {\"episode\": 570, \"reward\": 108.0}, {\"episode\": 571, \"reward\": 65.0}, {\"episode\": 572, \"reward\": 22.0}, {\"episode\": 573, \"reward\": 25.0}, {\"episode\": 574, \"reward\": 18.0}, {\"episode\": 575, \"reward\": 20.0}, {\"episode\": 576, \"reward\": 17.0}, {\"episode\": 577, \"reward\": 18.0}, {\"episode\": 578, \"reward\": 27.0}, {\"episode\": 579, \"reward\": 41.0}, {\"episode\": 580, \"reward\": 105.0}, {\"episode\": 581, \"reward\": 116.0}, {\"episode\": 582, \"reward\": 29.0}, {\"episode\": 583, \"reward\": 21.0}, {\"episode\": 584, \"reward\": 21.0}, {\"episode\": 585, \"reward\": 16.0}, {\"episode\": 586, \"reward\": 12.0}, {\"episode\": 587, \"reward\": 15.0}, {\"episode\": 588, \"reward\": 13.0}, {\"episode\": 589, \"reward\": 16.0}, {\"episode\": 590, \"reward\": 22.0}, {\"episode\": 591, \"reward\": 24.0}, {\"episode\": 592, \"reward\": 166.0}, {\"episode\": 593, \"reward\": 125.0}, {\"episode\": 594, \"reward\": 47.0}, {\"episode\": 595, \"reward\": 35.0}, {\"episode\": 596, \"reward\": 23.0}, {\"episode\": 597, \"reward\": 58.0}, {\"episode\": 598, \"reward\": 45.0}, {\"episode\": 599, \"reward\": 27.0}, {\"episode\": 600, \"reward\": 26.0}, {\"episode\": 601, \"reward\": 36.0}, {\"episode\": 602, \"reward\": 121.0}, {\"episode\": 603, \"reward\": 16.0}, {\"episode\": 604, \"reward\": 17.0}, {\"episode\": 605, \"reward\": 11.0}, {\"episode\": 606, \"reward\": 16.0}, {\"episode\": 607, \"reward\": 13.0}, {\"episode\": 608, \"reward\": 10.0}, {\"episode\": 609, \"reward\": 14.0}, {\"episode\": 610, \"reward\": 13.0}, {\"episode\": 611, \"reward\": 15.0}, {\"episode\": 612, \"reward\": 16.0}, {\"episode\": 613, \"reward\": 47.0}, {\"episode\": 614, \"reward\": 162.0}, {\"episode\": 615, \"reward\": 44.0}, {\"episode\": 616, \"reward\": 28.0}, {\"episode\": 617, \"reward\": 23.0}, {\"episode\": 618, \"reward\": 29.0}, {\"episode\": 619, \"reward\": 44.0}, {\"episode\": 620, \"reward\": 22.0}, {\"episode\": 621, \"reward\": 27.0}, {\"episode\": 622, \"reward\": 31.0}, {\"episode\": 623, \"reward\": 69.0}, {\"episode\": 624, \"reward\": 79.0}, {\"episode\": 625, \"reward\": 37.0}, {\"episode\": 626, \"reward\": 26.0}, {\"episode\": 627, \"reward\": 12.0}, {\"episode\": 628, \"reward\": 20.0}, {\"episode\": 629, \"reward\": 16.0}, {\"episode\": 630, \"reward\": 16.0}, {\"episode\": 631, \"reward\": 20.0}, {\"episode\": 632, \"reward\": 19.0}, {\"episode\": 633, \"reward\": 10.0}, {\"episode\": 634, \"reward\": 14.0}, {\"episode\": 635, \"reward\": 27.0}, {\"episode\": 636, \"reward\": 24.0}, {\"episode\": 637, \"reward\": 43.0}, {\"episode\": 638, \"reward\": 46.0}, {\"episode\": 639, \"reward\": 88.0}, {\"episode\": 640, \"reward\": 100.0}, {\"episode\": 641, \"reward\": 148.0}, {\"episode\": 642, \"reward\": 191.0}, {\"episode\": 643, \"reward\": 47.0}, {\"episode\": 644, \"reward\": 121.0}, {\"episode\": 645, \"reward\": 34.0}, {\"episode\": 646, \"reward\": 45.0}, {\"episode\": 647, \"reward\": 40.0}, {\"episode\": 648, \"reward\": 36.0}, {\"episode\": 649, \"reward\": 33.0}, {\"episode\": 650, \"reward\": 95.0}, {\"episode\": 651, \"reward\": 220.0}, {\"episode\": 652, \"reward\": 46.0}, {\"episode\": 653, \"reward\": 36.0}, {\"episode\": 654, \"reward\": 28.0}, {\"episode\": 655, \"reward\": 25.0}, {\"episode\": 656, \"reward\": 26.0}, {\"episode\": 657, \"reward\": 24.0}, {\"episode\": 658, \"reward\": 15.0}, {\"episode\": 659, \"reward\": 17.0}, {\"episode\": 660, \"reward\": 24.0}, {\"episode\": 661, \"reward\": 22.0}, {\"episode\": 662, \"reward\": 13.0}, {\"episode\": 663, \"reward\": 10.0}, {\"episode\": 664, \"reward\": 20.0}, {\"episode\": 665, \"reward\": 23.0}, {\"episode\": 666, \"reward\": 38.0}, {\"episode\": 667, \"reward\": 44.0}, {\"episode\": 668, \"reward\": 102.0}, {\"episode\": 669, \"reward\": 78.0}, {\"episode\": 670, \"reward\": 60.0}, {\"episode\": 671, \"reward\": 160.0}, {\"episode\": 672, \"reward\": 142.0}, {\"episode\": 673, \"reward\": 220.0}, {\"episode\": 674, \"reward\": 274.0}, {\"episode\": 675, \"reward\": 147.0}, {\"episode\": 676, \"reward\": 216.0}, {\"episode\": 677, \"reward\": 303.0}, {\"episode\": 678, \"reward\": 379.0}, {\"episode\": 679, \"reward\": 128.0}, {\"episode\": 680, \"reward\": 139.0}, {\"episode\": 681, \"reward\": 101.0}, {\"episode\": 682, \"reward\": 65.0}, {\"episode\": 683, \"reward\": 42.0}, {\"episode\": 684, \"reward\": 49.0}, {\"episode\": 685, \"reward\": 28.0}, {\"episode\": 686, \"reward\": 68.0}, {\"episode\": 687, \"reward\": 100.0}, {\"episode\": 688, \"reward\": 34.0}, {\"episode\": 689, \"reward\": 24.0}, {\"episode\": 690, \"reward\": 16.0}, {\"episode\": 691, \"reward\": 10.0}, {\"episode\": 692, \"reward\": 15.0}, {\"episode\": 693, \"reward\": 15.0}, {\"episode\": 694, \"reward\": 14.0}, {\"episode\": 695, \"reward\": 12.0}, {\"episode\": 696, \"reward\": 18.0}, {\"episode\": 697, \"reward\": 23.0}, {\"episode\": 698, \"reward\": 22.0}, {\"episode\": 699, \"reward\": 19.0}, {\"episode\": 700, \"reward\": 24.0}, {\"episode\": 701, \"reward\": 35.0}, {\"episode\": 702, \"reward\": 172.0}, {\"episode\": 703, \"reward\": 140.0}, {\"episode\": 704, \"reward\": 53.0}, {\"episode\": 705, \"reward\": 34.0}, {\"episode\": 706, \"reward\": 25.0}, {\"episode\": 707, \"reward\": 19.0}, {\"episode\": 708, \"reward\": 24.0}, {\"episode\": 709, \"reward\": 24.0}, {\"episode\": 710, \"reward\": 25.0}, {\"episode\": 711, \"reward\": 38.0}, {\"episode\": 712, \"reward\": 28.0}, {\"episode\": 713, \"reward\": 136.0}, {\"episode\": 714, \"reward\": 166.0}, {\"episode\": 715, \"reward\": 120.0}, {\"episode\": 716, \"reward\": 96.0}, {\"episode\": 717, \"reward\": 56.0}, {\"episode\": 718, \"reward\": 32.0}, {\"episode\": 719, \"reward\": 34.0}, {\"episode\": 720, \"reward\": 54.0}, {\"episode\": 721, \"reward\": 28.0}, {\"episode\": 722, \"reward\": 34.0}, {\"episode\": 723, \"reward\": 40.0}, {\"episode\": 724, \"reward\": 82.0}, {\"episode\": 725, \"reward\": 154.0}, {\"episode\": 726, \"reward\": 165.0}, {\"episode\": 727, \"reward\": 66.0}, {\"episode\": 728, \"reward\": 118.0}, {\"episode\": 729, \"reward\": 114.0}, {\"episode\": 730, \"reward\": 177.0}, {\"episode\": 731, \"reward\": 377.0}, {\"episode\": 732, \"reward\": 222.0}, {\"episode\": 733, \"reward\": 108.0}, {\"episode\": 734, \"reward\": 103.0}, {\"episode\": 735, \"reward\": 34.0}, {\"episode\": 736, \"reward\": 74.0}, {\"episode\": 737, \"reward\": 31.0}, {\"episode\": 738, \"reward\": 45.0}, {\"episode\": 739, \"reward\": 26.0}, {\"episode\": 740, \"reward\": 35.0}, {\"episode\": 741, \"reward\": 30.0}, {\"episode\": 742, \"reward\": 50.0}, {\"episode\": 743, \"reward\": 56.0}, {\"episode\": 744, \"reward\": 74.0}, {\"episode\": 745, \"reward\": 70.0}, {\"episode\": 746, \"reward\": 140.0}, {\"episode\": 747, \"reward\": 284.0}, {\"episode\": 748, \"reward\": 146.0}, {\"episode\": 749, \"reward\": 158.0}, {\"episode\": 750, \"reward\": 120.0}, {\"episode\": 751, \"reward\": 100.0}, {\"episode\": 752, \"reward\": 104.0}, {\"episode\": 753, \"reward\": 118.0}, {\"episode\": 754, \"reward\": 114.0}, {\"episode\": 755, \"reward\": 118.0}, {\"episode\": 756, \"reward\": 145.0}, {\"episode\": 757, \"reward\": 137.0}, {\"episode\": 758, \"reward\": 32.0}, {\"episode\": 759, \"reward\": 25.0}, {\"episode\": 760, \"reward\": 31.0}, {\"episode\": 761, \"reward\": 22.0}, {\"episode\": 762, \"reward\": 21.0}, {\"episode\": 763, \"reward\": 23.0}, {\"episode\": 764, \"reward\": 25.0}, {\"episode\": 765, \"reward\": 21.0}, {\"episode\": 766, \"reward\": 23.0}, {\"episode\": 767, \"reward\": 42.0}, {\"episode\": 768, \"reward\": 34.0}, {\"episode\": 769, \"reward\": 123.0}, {\"episode\": 770, \"reward\": 134.0}, {\"episode\": 771, \"reward\": 422.0}, {\"episode\": 772, \"reward\": 242.0}, {\"episode\": 773, \"reward\": 153.0}, {\"episode\": 774, \"reward\": 123.0}, {\"episode\": 775, \"reward\": 139.0}, {\"episode\": 776, \"reward\": 151.0}, {\"episode\": 777, \"reward\": 113.0}, {\"episode\": 778, \"reward\": 128.0}, {\"episode\": 779, \"reward\": 135.0}, {\"episode\": 780, \"reward\": 133.0}, {\"episode\": 781, \"reward\": 132.0}, {\"episode\": 782, \"reward\": 159.0}, {\"episode\": 783, \"reward\": 167.0}, {\"episode\": 784, \"reward\": 305.0}, {\"episode\": 785, \"reward\": 307.0}, {\"episode\": 786, \"reward\": 322.0}, {\"episode\": 787, \"reward\": 500.0}, {\"episode\": 788, \"reward\": 500.0}, {\"episode\": 789, \"reward\": 218.0}, {\"episode\": 790, \"reward\": 211.0}, {\"episode\": 791, \"reward\": 161.0}, {\"episode\": 792, \"reward\": 500.0}, {\"episode\": 793, \"reward\": 450.0}, {\"episode\": 794, \"reward\": 384.0}, {\"episode\": 795, \"reward\": 165.0}, {\"episode\": 796, \"reward\": 145.0}, {\"episode\": 797, \"reward\": 137.0}, {\"episode\": 798, \"reward\": 123.0}, {\"episode\": 799, \"reward\": 113.0}, {\"episode\": 800, \"reward\": 105.0}, {\"episode\": 801, \"reward\": 127.0}, {\"episode\": 802, \"reward\": 126.0}, {\"episode\": 803, \"reward\": 258.0}, {\"episode\": 804, \"reward\": 270.0}, {\"episode\": 805, \"reward\": 225.0}, {\"episode\": 806, \"reward\": 205.0}, {\"episode\": 807, \"reward\": 445.0}, {\"episode\": 808, \"reward\": 354.0}, {\"episode\": 809, \"reward\": 156.0}, {\"episode\": 810, \"reward\": 121.0}, {\"episode\": 811, \"reward\": 163.0}, {\"episode\": 812, \"reward\": 221.0}, {\"episode\": 813, \"reward\": 163.0}, {\"episode\": 814, \"reward\": 287.0}, {\"episode\": 815, \"reward\": 154.0}, {\"episode\": 816, \"reward\": 107.0}, {\"episode\": 817, \"reward\": 32.0}, {\"episode\": 818, \"reward\": 29.0}, {\"episode\": 819, \"reward\": 23.0}, {\"episode\": 820, \"reward\": 21.0}, {\"episode\": 821, \"reward\": 20.0}, {\"episode\": 822, \"reward\": 19.0}, {\"episode\": 823, \"reward\": 15.0}, {\"episode\": 824, \"reward\": 21.0}, {\"episode\": 825, \"reward\": 18.0}, {\"episode\": 826, \"reward\": 39.0}, {\"episode\": 827, \"reward\": 101.0}, {\"episode\": 828, \"reward\": 122.0}, {\"episode\": 829, \"reward\": 422.0}, {\"episode\": 830, \"reward\": 149.0}, {\"episode\": 831, \"reward\": 137.0}, {\"episode\": 832, \"reward\": 112.0}, {\"episode\": 833, \"reward\": 115.0}, {\"episode\": 834, \"reward\": 100.0}, {\"episode\": 835, \"reward\": 110.0}, {\"episode\": 836, \"reward\": 143.0}, {\"episode\": 837, \"reward\": 50.0}, {\"episode\": 838, \"reward\": 25.0}, {\"episode\": 839, \"reward\": 20.0}, {\"episode\": 840, \"reward\": 22.0}, {\"episode\": 841, \"reward\": 27.0}, {\"episode\": 842, \"reward\": 23.0}, {\"episode\": 843, \"reward\": 24.0}, {\"episode\": 844, \"reward\": 109.0}, {\"episode\": 845, \"reward\": 16.0}, {\"episode\": 846, \"reward\": 18.0}, {\"episode\": 847, \"reward\": 10.0}, {\"episode\": 848, \"reward\": 11.0}, {\"episode\": 849, \"reward\": 16.0}, {\"episode\": 850, \"reward\": 10.0}, {\"episode\": 851, \"reward\": 12.0}, {\"episode\": 852, \"reward\": 10.0}, {\"episode\": 853, \"reward\": 12.0}, {\"episode\": 854, \"reward\": 11.0}, {\"episode\": 855, \"reward\": 14.0}, {\"episode\": 856, \"reward\": 22.0}, {\"episode\": 857, \"reward\": 111.0}, {\"episode\": 858, \"reward\": 22.0}, {\"episode\": 859, \"reward\": 18.0}, {\"episode\": 860, \"reward\": 12.0}, {\"episode\": 861, \"reward\": 11.0}, {\"episode\": 862, \"reward\": 14.0}, {\"episode\": 863, \"reward\": 11.0}, {\"episode\": 864, \"reward\": 13.0}, {\"episode\": 865, \"reward\": 21.0}, {\"episode\": 866, \"reward\": 19.0}, {\"episode\": 867, \"reward\": 16.0}, {\"episode\": 868, \"reward\": 15.0}, {\"episode\": 869, \"reward\": 21.0}, {\"episode\": 870, \"reward\": 28.0}, {\"episode\": 871, \"reward\": 30.0}, {\"episode\": 872, \"reward\": 34.0}, {\"episode\": 873, \"reward\": 54.0}, {\"episode\": 874, \"reward\": 162.0}, {\"episode\": 875, \"reward\": 19.0}, {\"episode\": 876, \"reward\": 16.0}, {\"episode\": 877, \"reward\": 12.0}, {\"episode\": 878, \"reward\": 15.0}, {\"episode\": 879, \"reward\": 12.0}, {\"episode\": 880, \"reward\": 10.0}, {\"episode\": 881, \"reward\": 16.0}, {\"episode\": 882, \"reward\": 17.0}, {\"episode\": 883, \"reward\": 12.0}, {\"episode\": 884, \"reward\": 14.0}, {\"episode\": 885, \"reward\": 17.0}, {\"episode\": 886, \"reward\": 15.0}, {\"episode\": 887, \"reward\": 19.0}, {\"episode\": 888, \"reward\": 24.0}, {\"episode\": 889, \"reward\": 26.0}, {\"episode\": 890, \"reward\": 63.0}, {\"episode\": 891, \"reward\": 138.0}, {\"episode\": 892, \"reward\": 20.0}, {\"episode\": 893, \"reward\": 41.0}, {\"episode\": 894, \"reward\": 31.0}, {\"episode\": 895, \"reward\": 32.0}, {\"episode\": 896, \"reward\": 38.0}, {\"episode\": 897, \"reward\": 47.0}, {\"episode\": 898, \"reward\": 116.0}, {\"episode\": 899, \"reward\": 95.0}, {\"episode\": 900, \"reward\": 323.0}, {\"episode\": 901, \"reward\": 112.0}, {\"episode\": 902, \"reward\": 24.0}, {\"episode\": 903, \"reward\": 22.0}, {\"episode\": 904, \"reward\": 16.0}, {\"episode\": 905, \"reward\": 17.0}, {\"episode\": 906, \"reward\": 15.0}, {\"episode\": 907, \"reward\": 14.0}, {\"episode\": 908, \"reward\": 20.0}, {\"episode\": 909, \"reward\": 18.0}, {\"episode\": 910, \"reward\": 12.0}, {\"episode\": 911, \"reward\": 12.0}, {\"episode\": 912, \"reward\": 12.0}, {\"episode\": 913, \"reward\": 12.0}, {\"episode\": 914, \"reward\": 11.0}, {\"episode\": 915, \"reward\": 12.0}, {\"episode\": 916, \"reward\": 14.0}, {\"episode\": 917, \"reward\": 13.0}, {\"episode\": 918, \"reward\": 10.0}, {\"episode\": 919, \"reward\": 16.0}, {\"episode\": 920, \"reward\": 15.0}, {\"episode\": 921, \"reward\": 12.0}, {\"episode\": 922, \"reward\": 16.0}, {\"episode\": 923, \"reward\": 21.0}, {\"episode\": 924, \"reward\": 28.0}, {\"episode\": 925, \"reward\": 97.0}, {\"episode\": 926, \"reward\": 157.0}, {\"episode\": 927, \"reward\": 34.0}, {\"episode\": 928, \"reward\": 28.0}, {\"episode\": 929, \"reward\": 19.0}, {\"episode\": 930, \"reward\": 23.0}, {\"episode\": 931, \"reward\": 22.0}, {\"episode\": 932, \"reward\": 26.0}, {\"episode\": 933, \"reward\": 23.0}, {\"episode\": 934, \"reward\": 30.0}, {\"episode\": 935, \"reward\": 25.0}, {\"episode\": 936, \"reward\": 78.0}, {\"episode\": 937, \"reward\": 117.0}, {\"episode\": 938, \"reward\": 240.0}, {\"episode\": 939, \"reward\": 130.0}, {\"episode\": 940, \"reward\": 109.0}, {\"episode\": 941, \"reward\": 51.0}, {\"episode\": 942, \"reward\": 35.0}, {\"episode\": 943, \"reward\": 21.0}, {\"episode\": 944, \"reward\": 22.0}, {\"episode\": 945, \"reward\": 21.0}, {\"episode\": 946, \"reward\": 22.0}, {\"episode\": 947, \"reward\": 26.0}, {\"episode\": 948, \"reward\": 18.0}, {\"episode\": 949, \"reward\": 30.0}, {\"episode\": 950, \"reward\": 29.0}, {\"episode\": 951, \"reward\": 98.0}, {\"episode\": 952, \"reward\": 112.0}, {\"episode\": 953, \"reward\": 131.0}, {\"episode\": 954, \"reward\": 156.0}, {\"episode\": 955, \"reward\": 173.0}, {\"episode\": 956, \"reward\": 129.0}, {\"episode\": 957, \"reward\": 67.0}, {\"episode\": 958, \"reward\": 39.0}, {\"episode\": 959, \"reward\": 34.0}, {\"episode\": 960, \"reward\": 36.0}, {\"episode\": 961, \"reward\": 37.0}, {\"episode\": 962, \"reward\": 33.0}, {\"episode\": 963, \"reward\": 32.0}, {\"episode\": 964, \"reward\": 36.0}, {\"episode\": 965, \"reward\": 44.0}, {\"episode\": 966, \"reward\": 75.0}, {\"episode\": 967, \"reward\": 132.0}, {\"episode\": 968, \"reward\": 169.0}, {\"episode\": 969, \"reward\": 203.0}, {\"episode\": 970, \"reward\": 146.0}, {\"episode\": 971, \"reward\": 95.0}, {\"episode\": 972, \"reward\": 59.0}, {\"episode\": 973, \"reward\": 87.0}, {\"episode\": 974, \"reward\": 71.0}, {\"episode\": 975, \"reward\": 47.0}, {\"episode\": 976, \"reward\": 65.0}, {\"episode\": 977, \"reward\": 77.0}, {\"episode\": 978, \"reward\": 73.0}, {\"episode\": 979, \"reward\": 112.0}, {\"episode\": 980, \"reward\": 500.0}, {\"episode\": 981, \"reward\": 198.0}, {\"episode\": 982, \"reward\": 237.0}, {\"episode\": 983, \"reward\": 130.0}, {\"episode\": 984, \"reward\": 57.0}, {\"episode\": 985, \"reward\": 38.0}, {\"episode\": 986, \"reward\": 23.0}, {\"episode\": 987, \"reward\": 21.0}, {\"episode\": 988, \"reward\": 23.0}, {\"episode\": 989, \"reward\": 19.0}, {\"episode\": 990, \"reward\": 16.0}, {\"episode\": 991, \"reward\": 15.0}, {\"episode\": 992, \"reward\": 17.0}, {\"episode\": 993, \"reward\": 17.0}, {\"episode\": 994, \"reward\": 16.0}, {\"episode\": 995, \"reward\": 12.0}, {\"episode\": 996, \"reward\": 19.0}, {\"episode\": 997, \"reward\": 18.0}, {\"episode\": 998, \"reward\": 21.0}, {\"episode\": 999, \"reward\": 23.0}], \"data-3df07c75c72e68315503b421b8b7c444\": [{\"episode\": 0, \"reward\": 32.0}, {\"episode\": 1, \"reward\": 33.0}, {\"episode\": 2, \"reward\": 29.0}, {\"episode\": 3, \"reward\": 31.0}, {\"episode\": 4, \"reward\": 34.0}, {\"episode\": 5, \"reward\": 29.0}, {\"episode\": 6, \"reward\": 24.0}, {\"episode\": 7, \"reward\": 29.0}, {\"episode\": 8, \"reward\": 33.0}, {\"episode\": 9, \"reward\": 36.0}, {\"episode\": 10, \"reward\": 23.0}, {\"episode\": 11, \"reward\": 33.0}, {\"episode\": 12, \"reward\": 31.0}, {\"episode\": 13, \"reward\": 26.0}, {\"episode\": 14, \"reward\": 31.0}, {\"episode\": 15, \"reward\": 30.0}, {\"episode\": 16, \"reward\": 29.0}, {\"episode\": 17, \"reward\": 31.0}, {\"episode\": 18, \"reward\": 27.0}, {\"episode\": 19, \"reward\": 35.0}, {\"episode\": 20, \"reward\": 25.0}, {\"episode\": 21, \"reward\": 33.0}, {\"episode\": 22, \"reward\": 28.0}, {\"episode\": 23, \"reward\": 25.0}, {\"episode\": 24, \"reward\": 23.0}, {\"episode\": 25, \"reward\": 33.0}, {\"episode\": 26, \"reward\": 29.0}, {\"episode\": 27, \"reward\": 33.0}, {\"episode\": 28, \"reward\": 33.0}, {\"episode\": 29, \"reward\": 28.0}, {\"episode\": 30, \"reward\": 26.0}, {\"episode\": 31, \"reward\": 28.0}, {\"episode\": 32, \"reward\": 33.0}, {\"episode\": 33, \"reward\": 35.0}, {\"episode\": 34, \"reward\": 29.0}, {\"episode\": 35, \"reward\": 23.0}, {\"episode\": 36, \"reward\": 26.0}, {\"episode\": 37, \"reward\": 30.0}, {\"episode\": 38, \"reward\": 23.0}, {\"episode\": 39, \"reward\": 29.0}, {\"episode\": 40, \"reward\": 29.0}, {\"episode\": 41, \"reward\": 27.0}, {\"episode\": 42, \"reward\": 29.0}, {\"episode\": 43, \"reward\": 33.0}, {\"episode\": 44, \"reward\": 23.0}, {\"episode\": 45, \"reward\": 27.0}, {\"episode\": 46, \"reward\": 33.0}, {\"episode\": 47, \"reward\": 33.0}, {\"episode\": 48, \"reward\": 27.0}, {\"episode\": 49, \"reward\": 25.0}, {\"episode\": 50, \"reward\": 25.0}, {\"episode\": 51, \"reward\": 25.0}, {\"episode\": 52, \"reward\": 29.0}, {\"episode\": 53, \"reward\": 30.0}, {\"episode\": 54, \"reward\": 24.0}, {\"episode\": 55, \"reward\": 27.0}, {\"episode\": 56, \"reward\": 34.0}, {\"episode\": 57, \"reward\": 33.0}, {\"episode\": 58, \"reward\": 26.0}, {\"episode\": 59, \"reward\": 33.0}, {\"episode\": 60, \"reward\": 25.0}, {\"episode\": 61, \"reward\": 30.0}, {\"episode\": 62, \"reward\": 23.0}, {\"episode\": 63, \"reward\": 29.0}, {\"episode\": 64, \"reward\": 29.0}, {\"episode\": 65, \"reward\": 24.0}, {\"episode\": 66, \"reward\": 34.0}, {\"episode\": 67, \"reward\": 33.0}, {\"episode\": 68, \"reward\": 29.0}, {\"episode\": 69, \"reward\": 29.0}, {\"episode\": 70, \"reward\": 27.0}, {\"episode\": 71, \"reward\": 36.0}, {\"episode\": 72, \"reward\": 27.0}, {\"episode\": 73, \"reward\": 31.0}, {\"episode\": 74, \"reward\": 26.0}, {\"episode\": 75, \"reward\": 30.0}, {\"episode\": 76, \"reward\": 25.0}, {\"episode\": 77, \"reward\": 30.0}, {\"episode\": 78, \"reward\": 31.0}, {\"episode\": 79, \"reward\": 30.0}, {\"episode\": 80, \"reward\": 25.0}, {\"episode\": 81, \"reward\": 25.0}, {\"episode\": 82, \"reward\": 29.0}, {\"episode\": 83, \"reward\": 35.0}, {\"episode\": 84, \"reward\": 29.0}, {\"episode\": 85, \"reward\": 31.0}, {\"episode\": 86, \"reward\": 35.0}, {\"episode\": 87, \"reward\": 30.0}, {\"episode\": 88, \"reward\": 30.0}, {\"episode\": 89, \"reward\": 30.0}, {\"episode\": 90, \"reward\": 25.0}, {\"episode\": 91, \"reward\": 30.0}, {\"episode\": 92, \"reward\": 33.0}, {\"episode\": 93, \"reward\": 33.0}, {\"episode\": 94, \"reward\": 27.0}, {\"episode\": 95, \"reward\": 24.0}, {\"episode\": 96, \"reward\": 25.0}, {\"episode\": 97, \"reward\": 27.0}, {\"episode\": 98, \"reward\": 31.0}, {\"episode\": 99, \"reward\": 25.0}]}}, {\"mode\": \"vega-lite\"});\n",
       "</script>"
      ],
      "text/plain": [
       "alt.HConcatChart(...)"
      ]
     },
     "execution_count": 32,
     "metadata": {},
     "output_type": "execute_result"
    }
   ],
   "source": [
    "alt.Chart(train_rewards).mark_point().encode(x=\"episode\", y=\"reward\") | alt.Chart(\n",
    "    test_rewards\n",
    ").mark_point().encode(x=\"episode\", y=\"reward\")\n"
   ]
  },
  {
   "cell_type": "code",
   "execution_count": null,
   "id": "08b6f43f-f71d-4338-b2f2-644fa1a14cb6",
   "metadata": {},
   "outputs": [],
   "source": []
  }
 ],
 "metadata": {
  "kernelspec": {
   "display_name": "Python 3 (ipykernel)",
   "language": "python",
   "name": "python3"
  },
  "language_info": {
   "codemirror_mode": {
    "name": "ipython",
    "version": 3
   },
   "file_extension": ".py",
   "mimetype": "text/x-python",
   "name": "python",
   "nbconvert_exporter": "python",
   "pygments_lexer": "ipython3",
   "version": "3.8.12"
  }
 },
 "nbformat": 4,
 "nbformat_minor": 5
}
