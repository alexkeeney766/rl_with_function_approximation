{
 "cells": [
  {
   "cell_type": "code",
   "execution_count": 1,
   "id": "ab9a5501-57f3-41b5-9fbf-a4f41301365a",
   "metadata": {},
   "outputs": [],
   "source": [
    "import torch\n",
    "from gym_runner.gym_runner import GymRunner\n",
    "from gym_runner.q_func_approx import QFuncMedThreelayer, QFuncFree\n",
    "from gym_runner.agents.sarsa_agent import SarsaAgent\n",
    "from gym_runner.agents.q_learning_agent import QLearningAgent, QLearningAgentExperienceReplay\n",
    "import pandas as pd\n",
    "import altair as alt\n",
    "\n"
   ]
  },
  {
   "cell_type": "code",
   "execution_count": 2,
   "id": "a816cbf9-7f2f-4918-8498-7b2df39b467a",
   "metadata": {},
   "outputs": [],
   "source": [
    "runner = GymRunner(\"CartPole-v1\", display_metrics=True)\n",
    "num_actions = runner.env.action_space.n\n",
    "state_dim = runner.env.observation_space.shape[0]"
   ]
  },
  {
   "cell_type": "code",
   "execution_count": 3,
   "id": "9554f769-d5d3-48b4-9bb1-71e3bd526eb9",
   "metadata": {},
   "outputs": [],
   "source": [
    "q_func = QFuncMedThreelayer(\n",
    "    num_actions = num_actions,\n",
    "    state_dim = state_dim,\n",
    "    optimizer = 'Adam',\n",
    "    loss_func = 'mse',\n",
    "    alpha = 0.01\n",
    ")"
   ]
  },
  {
   "cell_type": "code",
   "execution_count": 4,
   "id": "64c48db1-cd5f-4d49-8918-d5347c852340",
   "metadata": {},
   "outputs": [],
   "source": [
    "agent = QLearningAgentExperienceReplay(\n",
    "    q_func, \n",
    "    num_actions = num_actions,\n",
    "    state_dim = state_dim, \n",
    "    batch_size = 32\n",
    ")"
   ]
  },
  {
   "cell_type": "code",
   "execution_count": 5,
   "id": "4f5e8a68-47ee-4f55-8e24-54f6bb904920",
   "metadata": {},
   "outputs": [
    {
     "name": "stdout",
     "output_type": "stream",
     "text": [
      "Epsilon:  0.1375201748252333\n",
      "Current Reward:  237.0\n",
      "Episode:  990\n"
     ]
    }
   ],
   "source": [
    "train_results = runner.train(agent = agent, )"
   ]
  },
  {
   "cell_type": "code",
   "execution_count": 6,
   "id": "d97430a7-e58f-45f9-b444-7491d11a487f",
   "metadata": {},
   "outputs": [],
   "source": [
    "test_rewards = runner.attempt(agent, num_episodes=100)"
   ]
  },
  {
   "cell_type": "code",
   "execution_count": 7,
   "id": "c08282b8-691e-430a-9eae-ba8500c2d737",
   "metadata": {},
   "outputs": [],
   "source": [
    "train_results = pd.DataFrame(train_results).reset_index()\n",
    "train_results.columns = [\"episode\", \"reward\"]\n",
    "\n",
    "test_rewards = pd.DataFrame(test_rewards).reset_index()\n",
    "test_rewards.columns = [\"episode\", \"reward\"]"
   ]
  },
  {
   "cell_type": "code",
   "execution_count": 8,
   "id": "a51e1d71-4667-4a86-8971-d8eea1f7baa6",
   "metadata": {},
   "outputs": [
    {
     "data": {
      "text/html": [
       "\n",
       "<div id=\"altair-viz-59dfb4c9bab947669f87fbfc45cfe224\"></div>\n",
       "<script type=\"text/javascript\">\n",
       "  (function(spec, embedOpt){\n",
       "    let outputDiv = document.currentScript.previousElementSibling;\n",
       "    if (outputDiv.id !== \"altair-viz-59dfb4c9bab947669f87fbfc45cfe224\") {\n",
       "      outputDiv = document.getElementById(\"altair-viz-59dfb4c9bab947669f87fbfc45cfe224\");\n",
       "    }\n",
       "    const paths = {\n",
       "      \"vega\": \"https://cdn.jsdelivr.net/npm//vega@5?noext\",\n",
       "      \"vega-lib\": \"https://cdn.jsdelivr.net/npm//vega-lib?noext\",\n",
       "      \"vega-lite\": \"https://cdn.jsdelivr.net/npm//vega-lite@4.8.1?noext\",\n",
       "      \"vega-embed\": \"https://cdn.jsdelivr.net/npm//vega-embed@6?noext\",\n",
       "    };\n",
       "\n",
       "    function loadScript(lib) {\n",
       "      return new Promise(function(resolve, reject) {\n",
       "        var s = document.createElement('script');\n",
       "        s.src = paths[lib];\n",
       "        s.async = true;\n",
       "        s.onload = () => resolve(paths[lib]);\n",
       "        s.onerror = () => reject(`Error loading script: ${paths[lib]}`);\n",
       "        document.getElementsByTagName(\"head\")[0].appendChild(s);\n",
       "      });\n",
       "    }\n",
       "\n",
       "    function showError(err) {\n",
       "      outputDiv.innerHTML = `<div class=\"error\" style=\"color:red;\">${err}</div>`;\n",
       "      throw err;\n",
       "    }\n",
       "\n",
       "    function displayChart(vegaEmbed) {\n",
       "      vegaEmbed(outputDiv, spec, embedOpt)\n",
       "        .catch(err => showError(`Javascript Error: ${err.message}<br>This usually means there's a typo in your chart specification. See the javascript console for the full traceback.`));\n",
       "    }\n",
       "\n",
       "    if(typeof define === \"function\" && define.amd) {\n",
       "      requirejs.config({paths});\n",
       "      require([\"vega-embed\"], displayChart, err => showError(`Error loading script: ${err.message}`));\n",
       "    } else if (typeof vegaEmbed === \"function\") {\n",
       "      displayChart(vegaEmbed);\n",
       "    } else {\n",
       "      loadScript(\"vega\")\n",
       "        .then(() => loadScript(\"vega-lite\"))\n",
       "        .then(() => loadScript(\"vega-embed\"))\n",
       "        .catch(showError)\n",
       "        .then(() => displayChart(vegaEmbed));\n",
       "    }\n",
       "  })({\"config\": {\"view\": {\"continuousWidth\": 400, \"continuousHeight\": 300}}, \"hconcat\": [{\"data\": {\"name\": \"data-ac385b6586d2fb46d93ac091def3abca\"}, \"mark\": \"point\", \"encoding\": {\"x\": {\"type\": \"quantitative\", \"field\": \"episode\"}, \"y\": {\"type\": \"quantitative\", \"field\": \"reward\"}}}, {\"data\": {\"name\": \"data-9f4edd443ab825e40c8e058fb8bf9b8c\"}, \"mark\": \"point\", \"encoding\": {\"x\": {\"type\": \"quantitative\", \"field\": \"episode\"}, \"y\": {\"type\": \"quantitative\", \"field\": \"reward\"}}}], \"$schema\": \"https://vega.github.io/schema/vega-lite/v4.8.1.json\", \"datasets\": {\"data-ac385b6586d2fb46d93ac091def3abca\": [{\"episode\": 0, \"reward\": 19.0}, {\"episode\": 1, \"reward\": 11.0}, {\"episode\": 2, \"reward\": 19.0}, {\"episode\": 3, \"reward\": 13.0}, {\"episode\": 4, \"reward\": 44.0}, {\"episode\": 5, \"reward\": 56.0}, {\"episode\": 6, \"reward\": 11.0}, {\"episode\": 7, \"reward\": 17.0}, {\"episode\": 8, \"reward\": 31.0}, {\"episode\": 9, \"reward\": 12.0}, {\"episode\": 10, \"reward\": 22.0}, {\"episode\": 11, \"reward\": 25.0}, {\"episode\": 12, \"reward\": 14.0}, {\"episode\": 13, \"reward\": 12.0}, {\"episode\": 14, \"reward\": 17.0}, {\"episode\": 15, \"reward\": 13.0}, {\"episode\": 16, \"reward\": 14.0}, {\"episode\": 17, \"reward\": 16.0}, {\"episode\": 18, \"reward\": 22.0}, {\"episode\": 19, \"reward\": 13.0}, {\"episode\": 20, \"reward\": 29.0}, {\"episode\": 21, \"reward\": 15.0}, {\"episode\": 22, \"reward\": 37.0}, {\"episode\": 23, \"reward\": 24.0}, {\"episode\": 24, \"reward\": 15.0}, {\"episode\": 25, \"reward\": 20.0}, {\"episode\": 26, \"reward\": 28.0}, {\"episode\": 27, \"reward\": 13.0}, {\"episode\": 28, \"reward\": 31.0}, {\"episode\": 29, \"reward\": 40.0}, {\"episode\": 30, \"reward\": 26.0}, {\"episode\": 31, \"reward\": 16.0}, {\"episode\": 32, \"reward\": 11.0}, {\"episode\": 33, \"reward\": 12.0}, {\"episode\": 34, \"reward\": 22.0}, {\"episode\": 35, \"reward\": 18.0}, {\"episode\": 36, \"reward\": 28.0}, {\"episode\": 37, \"reward\": 12.0}, {\"episode\": 38, \"reward\": 20.0}, {\"episode\": 39, \"reward\": 20.0}, {\"episode\": 40, \"reward\": 14.0}, {\"episode\": 41, \"reward\": 18.0}, {\"episode\": 42, \"reward\": 11.0}, {\"episode\": 43, \"reward\": 34.0}, {\"episode\": 44, \"reward\": 27.0}, {\"episode\": 45, \"reward\": 28.0}, {\"episode\": 46, \"reward\": 13.0}, {\"episode\": 47, \"reward\": 15.0}, {\"episode\": 48, \"reward\": 15.0}, {\"episode\": 49, \"reward\": 37.0}, {\"episode\": 50, \"reward\": 20.0}, {\"episode\": 51, \"reward\": 22.0}, {\"episode\": 52, \"reward\": 45.0}, {\"episode\": 53, \"reward\": 17.0}, {\"episode\": 54, \"reward\": 15.0}, {\"episode\": 55, \"reward\": 41.0}, {\"episode\": 56, \"reward\": 26.0}, {\"episode\": 57, \"reward\": 15.0}, {\"episode\": 58, \"reward\": 12.0}, {\"episode\": 59, \"reward\": 35.0}, {\"episode\": 60, \"reward\": 28.0}, {\"episode\": 61, \"reward\": 17.0}, {\"episode\": 62, \"reward\": 11.0}, {\"episode\": 63, \"reward\": 21.0}, {\"episode\": 64, \"reward\": 25.0}, {\"episode\": 65, \"reward\": 41.0}, {\"episode\": 66, \"reward\": 12.0}, {\"episode\": 67, \"reward\": 10.0}, {\"episode\": 68, \"reward\": 48.0}, {\"episode\": 69, \"reward\": 78.0}, {\"episode\": 70, \"reward\": 52.0}, {\"episode\": 71, \"reward\": 22.0}, {\"episode\": 72, \"reward\": 27.0}, {\"episode\": 73, \"reward\": 14.0}, {\"episode\": 74, \"reward\": 25.0}, {\"episode\": 75, \"reward\": 16.0}, {\"episode\": 76, \"reward\": 16.0}, {\"episode\": 77, \"reward\": 26.0}, {\"episode\": 78, \"reward\": 24.0}, {\"episode\": 79, \"reward\": 20.0}, {\"episode\": 80, \"reward\": 36.0}, {\"episode\": 81, \"reward\": 18.0}, {\"episode\": 82, \"reward\": 20.0}, {\"episode\": 83, \"reward\": 11.0}, {\"episode\": 84, \"reward\": 50.0}, {\"episode\": 85, \"reward\": 27.0}, {\"episode\": 86, \"reward\": 14.0}, {\"episode\": 87, \"reward\": 26.0}, {\"episode\": 88, \"reward\": 38.0}, {\"episode\": 89, \"reward\": 22.0}, {\"episode\": 90, \"reward\": 18.0}, {\"episode\": 91, \"reward\": 18.0}, {\"episode\": 92, \"reward\": 15.0}, {\"episode\": 93, \"reward\": 24.0}, {\"episode\": 94, \"reward\": 14.0}, {\"episode\": 95, \"reward\": 11.0}, {\"episode\": 96, \"reward\": 17.0}, {\"episode\": 97, \"reward\": 17.0}, {\"episode\": 98, \"reward\": 26.0}, {\"episode\": 99, \"reward\": 12.0}, {\"episode\": 100, \"reward\": 26.0}, {\"episode\": 101, \"reward\": 20.0}, {\"episode\": 102, \"reward\": 18.0}, {\"episode\": 103, \"reward\": 48.0}, {\"episode\": 104, \"reward\": 19.0}, {\"episode\": 105, \"reward\": 19.0}, {\"episode\": 106, \"reward\": 20.0}, {\"episode\": 107, \"reward\": 10.0}, {\"episode\": 108, \"reward\": 18.0}, {\"episode\": 109, \"reward\": 16.0}, {\"episode\": 110, \"reward\": 22.0}, {\"episode\": 111, \"reward\": 27.0}, {\"episode\": 112, \"reward\": 34.0}, {\"episode\": 113, \"reward\": 20.0}, {\"episode\": 114, \"reward\": 25.0}, {\"episode\": 115, \"reward\": 15.0}, {\"episode\": 116, \"reward\": 79.0}, {\"episode\": 117, \"reward\": 38.0}, {\"episode\": 118, \"reward\": 20.0}, {\"episode\": 119, \"reward\": 17.0}, {\"episode\": 120, \"reward\": 37.0}, {\"episode\": 121, \"reward\": 10.0}, {\"episode\": 122, \"reward\": 15.0}, {\"episode\": 123, \"reward\": 46.0}, {\"episode\": 124, \"reward\": 11.0}, {\"episode\": 125, \"reward\": 12.0}, {\"episode\": 126, \"reward\": 30.0}, {\"episode\": 127, \"reward\": 56.0}, {\"episode\": 128, \"reward\": 9.0}, {\"episode\": 129, \"reward\": 12.0}, {\"episode\": 130, \"reward\": 27.0}, {\"episode\": 131, \"reward\": 55.0}, {\"episode\": 132, \"reward\": 17.0}, {\"episode\": 133, \"reward\": 43.0}, {\"episode\": 134, \"reward\": 20.0}, {\"episode\": 135, \"reward\": 12.0}, {\"episode\": 136, \"reward\": 17.0}, {\"episode\": 137, \"reward\": 10.0}, {\"episode\": 138, \"reward\": 11.0}, {\"episode\": 139, \"reward\": 16.0}, {\"episode\": 140, \"reward\": 24.0}, {\"episode\": 141, \"reward\": 10.0}, {\"episode\": 142, \"reward\": 21.0}, {\"episode\": 143, \"reward\": 19.0}, {\"episode\": 144, \"reward\": 10.0}, {\"episode\": 145, \"reward\": 18.0}, {\"episode\": 146, \"reward\": 15.0}, {\"episode\": 147, \"reward\": 25.0}, {\"episode\": 148, \"reward\": 13.0}, {\"episode\": 149, \"reward\": 28.0}, {\"episode\": 150, \"reward\": 15.0}, {\"episode\": 151, \"reward\": 19.0}, {\"episode\": 152, \"reward\": 15.0}, {\"episode\": 153, \"reward\": 48.0}, {\"episode\": 154, \"reward\": 20.0}, {\"episode\": 155, \"reward\": 13.0}, {\"episode\": 156, \"reward\": 19.0}, {\"episode\": 157, \"reward\": 35.0}, {\"episode\": 158, \"reward\": 16.0}, {\"episode\": 159, \"reward\": 19.0}, {\"episode\": 160, \"reward\": 15.0}, {\"episode\": 161, \"reward\": 38.0}, {\"episode\": 162, \"reward\": 29.0}, {\"episode\": 163, \"reward\": 64.0}, {\"episode\": 164, \"reward\": 45.0}, {\"episode\": 165, \"reward\": 30.0}, {\"episode\": 166, \"reward\": 10.0}, {\"episode\": 167, \"reward\": 47.0}, {\"episode\": 168, \"reward\": 45.0}, {\"episode\": 169, \"reward\": 63.0}, {\"episode\": 170, \"reward\": 33.0}, {\"episode\": 171, \"reward\": 19.0}, {\"episode\": 172, \"reward\": 18.0}, {\"episode\": 173, \"reward\": 51.0}, {\"episode\": 174, \"reward\": 20.0}, {\"episode\": 175, \"reward\": 28.0}, {\"episode\": 176, \"reward\": 37.0}, {\"episode\": 177, \"reward\": 29.0}, {\"episode\": 178, \"reward\": 19.0}, {\"episode\": 179, \"reward\": 47.0}, {\"episode\": 180, \"reward\": 37.0}, {\"episode\": 181, \"reward\": 21.0}, {\"episode\": 182, \"reward\": 58.0}, {\"episode\": 183, \"reward\": 26.0}, {\"episode\": 184, \"reward\": 17.0}, {\"episode\": 185, \"reward\": 25.0}, {\"episode\": 186, \"reward\": 20.0}, {\"episode\": 187, \"reward\": 48.0}, {\"episode\": 188, \"reward\": 19.0}, {\"episode\": 189, \"reward\": 16.0}, {\"episode\": 190, \"reward\": 13.0}, {\"episode\": 191, \"reward\": 15.0}, {\"episode\": 192, \"reward\": 75.0}, {\"episode\": 193, \"reward\": 44.0}, {\"episode\": 194, \"reward\": 28.0}, {\"episode\": 195, \"reward\": 29.0}, {\"episode\": 196, \"reward\": 51.0}, {\"episode\": 197, \"reward\": 77.0}, {\"episode\": 198, \"reward\": 28.0}, {\"episode\": 199, \"reward\": 67.0}, {\"episode\": 200, \"reward\": 18.0}, {\"episode\": 201, \"reward\": 22.0}, {\"episode\": 202, \"reward\": 15.0}, {\"episode\": 203, \"reward\": 22.0}, {\"episode\": 204, \"reward\": 20.0}, {\"episode\": 205, \"reward\": 31.0}, {\"episode\": 206, \"reward\": 24.0}, {\"episode\": 207, \"reward\": 16.0}, {\"episode\": 208, \"reward\": 24.0}, {\"episode\": 209, \"reward\": 51.0}, {\"episode\": 210, \"reward\": 48.0}, {\"episode\": 211, \"reward\": 27.0}, {\"episode\": 212, \"reward\": 60.0}, {\"episode\": 213, \"reward\": 24.0}, {\"episode\": 214, \"reward\": 35.0}, {\"episode\": 215, \"reward\": 53.0}, {\"episode\": 216, \"reward\": 142.0}, {\"episode\": 217, \"reward\": 20.0}, {\"episode\": 218, \"reward\": 21.0}, {\"episode\": 219, \"reward\": 23.0}, {\"episode\": 220, \"reward\": 13.0}, {\"episode\": 221, \"reward\": 13.0}, {\"episode\": 222, \"reward\": 31.0}, {\"episode\": 223, \"reward\": 15.0}, {\"episode\": 224, \"reward\": 27.0}, {\"episode\": 225, \"reward\": 32.0}, {\"episode\": 226, \"reward\": 33.0}, {\"episode\": 227, \"reward\": 65.0}, {\"episode\": 228, \"reward\": 53.0}, {\"episode\": 229, \"reward\": 15.0}, {\"episode\": 230, \"reward\": 20.0}, {\"episode\": 231, \"reward\": 24.0}, {\"episode\": 232, \"reward\": 21.0}, {\"episode\": 233, \"reward\": 13.0}, {\"episode\": 234, \"reward\": 12.0}, {\"episode\": 235, \"reward\": 23.0}, {\"episode\": 236, \"reward\": 63.0}, {\"episode\": 237, \"reward\": 12.0}, {\"episode\": 238, \"reward\": 38.0}, {\"episode\": 239, \"reward\": 61.0}, {\"episode\": 240, \"reward\": 28.0}, {\"episode\": 241, \"reward\": 39.0}, {\"episode\": 242, \"reward\": 135.0}, {\"episode\": 243, \"reward\": 21.0}, {\"episode\": 244, \"reward\": 38.0}, {\"episode\": 245, \"reward\": 28.0}, {\"episode\": 246, \"reward\": 24.0}, {\"episode\": 247, \"reward\": 23.0}, {\"episode\": 248, \"reward\": 77.0}, {\"episode\": 249, \"reward\": 57.0}, {\"episode\": 250, \"reward\": 85.0}, {\"episode\": 251, \"reward\": 30.0}, {\"episode\": 252, \"reward\": 51.0}, {\"episode\": 253, \"reward\": 66.0}, {\"episode\": 254, \"reward\": 71.0}, {\"episode\": 255, \"reward\": 118.0}, {\"episode\": 256, \"reward\": 42.0}, {\"episode\": 257, \"reward\": 96.0}, {\"episode\": 258, \"reward\": 119.0}, {\"episode\": 259, \"reward\": 16.0}, {\"episode\": 260, \"reward\": 39.0}, {\"episode\": 261, \"reward\": 71.0}, {\"episode\": 262, \"reward\": 43.0}, {\"episode\": 263, \"reward\": 44.0}, {\"episode\": 264, \"reward\": 48.0}, {\"episode\": 265, \"reward\": 70.0}, {\"episode\": 266, \"reward\": 52.0}, {\"episode\": 267, \"reward\": 59.0}, {\"episode\": 268, \"reward\": 27.0}, {\"episode\": 269, \"reward\": 30.0}, {\"episode\": 270, \"reward\": 27.0}, {\"episode\": 271, \"reward\": 15.0}, {\"episode\": 272, \"reward\": 20.0}, {\"episode\": 273, \"reward\": 51.0}, {\"episode\": 274, \"reward\": 47.0}, {\"episode\": 275, \"reward\": 44.0}, {\"episode\": 276, \"reward\": 44.0}, {\"episode\": 277, \"reward\": 55.0}, {\"episode\": 278, \"reward\": 37.0}, {\"episode\": 279, \"reward\": 116.0}, {\"episode\": 280, \"reward\": 20.0}, {\"episode\": 281, \"reward\": 59.0}, {\"episode\": 282, \"reward\": 27.0}, {\"episode\": 283, \"reward\": 24.0}, {\"episode\": 284, \"reward\": 25.0}, {\"episode\": 285, \"reward\": 20.0}, {\"episode\": 286, \"reward\": 48.0}, {\"episode\": 287, \"reward\": 57.0}, {\"episode\": 288, \"reward\": 10.0}, {\"episode\": 289, \"reward\": 67.0}, {\"episode\": 290, \"reward\": 67.0}, {\"episode\": 291, \"reward\": 30.0}, {\"episode\": 292, \"reward\": 49.0}, {\"episode\": 293, \"reward\": 17.0}, {\"episode\": 294, \"reward\": 24.0}, {\"episode\": 295, \"reward\": 42.0}, {\"episode\": 296, \"reward\": 123.0}, {\"episode\": 297, \"reward\": 67.0}, {\"episode\": 298, \"reward\": 29.0}, {\"episode\": 299, \"reward\": 29.0}, {\"episode\": 300, \"reward\": 38.0}, {\"episode\": 301, \"reward\": 16.0}, {\"episode\": 302, \"reward\": 22.0}, {\"episode\": 303, \"reward\": 25.0}, {\"episode\": 304, \"reward\": 36.0}, {\"episode\": 305, \"reward\": 27.0}, {\"episode\": 306, \"reward\": 81.0}, {\"episode\": 307, \"reward\": 133.0}, {\"episode\": 308, \"reward\": 68.0}, {\"episode\": 309, \"reward\": 33.0}, {\"episode\": 310, \"reward\": 87.0}, {\"episode\": 311, \"reward\": 41.0}, {\"episode\": 312, \"reward\": 13.0}, {\"episode\": 313, \"reward\": 68.0}, {\"episode\": 314, \"reward\": 50.0}, {\"episode\": 315, \"reward\": 80.0}, {\"episode\": 316, \"reward\": 31.0}, {\"episode\": 317, \"reward\": 36.0}, {\"episode\": 318, \"reward\": 38.0}, {\"episode\": 319, \"reward\": 24.0}, {\"episode\": 320, \"reward\": 41.0}, {\"episode\": 321, \"reward\": 23.0}, {\"episode\": 322, \"reward\": 154.0}, {\"episode\": 323, \"reward\": 119.0}, {\"episode\": 324, \"reward\": 36.0}, {\"episode\": 325, \"reward\": 21.0}, {\"episode\": 326, \"reward\": 38.0}, {\"episode\": 327, \"reward\": 26.0}, {\"episode\": 328, \"reward\": 133.0}, {\"episode\": 329, \"reward\": 21.0}, {\"episode\": 330, \"reward\": 19.0}, {\"episode\": 331, \"reward\": 53.0}, {\"episode\": 332, \"reward\": 33.0}, {\"episode\": 333, \"reward\": 31.0}, {\"episode\": 334, \"reward\": 36.0}, {\"episode\": 335, \"reward\": 52.0}, {\"episode\": 336, \"reward\": 46.0}, {\"episode\": 337, \"reward\": 221.0}, {\"episode\": 338, \"reward\": 63.0}, {\"episode\": 339, \"reward\": 82.0}, {\"episode\": 340, \"reward\": 88.0}, {\"episode\": 341, \"reward\": 64.0}, {\"episode\": 342, \"reward\": 20.0}, {\"episode\": 343, \"reward\": 38.0}, {\"episode\": 344, \"reward\": 84.0}, {\"episode\": 345, \"reward\": 109.0}, {\"episode\": 346, \"reward\": 214.0}, {\"episode\": 347, \"reward\": 45.0}, {\"episode\": 348, \"reward\": 37.0}, {\"episode\": 349, \"reward\": 50.0}, {\"episode\": 350, \"reward\": 29.0}, {\"episode\": 351, \"reward\": 26.0}, {\"episode\": 352, \"reward\": 38.0}, {\"episode\": 353, \"reward\": 48.0}, {\"episode\": 354, \"reward\": 118.0}, {\"episode\": 355, \"reward\": 107.0}, {\"episode\": 356, \"reward\": 99.0}, {\"episode\": 357, \"reward\": 75.0}, {\"episode\": 358, \"reward\": 37.0}, {\"episode\": 359, \"reward\": 53.0}, {\"episode\": 360, \"reward\": 68.0}, {\"episode\": 361, \"reward\": 94.0}, {\"episode\": 362, \"reward\": 199.0}, {\"episode\": 363, \"reward\": 112.0}, {\"episode\": 364, \"reward\": 158.0}, {\"episode\": 365, \"reward\": 128.0}, {\"episode\": 366, \"reward\": 17.0}, {\"episode\": 367, \"reward\": 14.0}, {\"episode\": 368, \"reward\": 13.0}, {\"episode\": 369, \"reward\": 65.0}, {\"episode\": 370, \"reward\": 92.0}, {\"episode\": 371, \"reward\": 76.0}, {\"episode\": 372, \"reward\": 40.0}, {\"episode\": 373, \"reward\": 83.0}, {\"episode\": 374, \"reward\": 147.0}, {\"episode\": 375, \"reward\": 32.0}, {\"episode\": 376, \"reward\": 119.0}, {\"episode\": 377, \"reward\": 269.0}, {\"episode\": 378, \"reward\": 29.0}, {\"episode\": 379, \"reward\": 55.0}, {\"episode\": 380, \"reward\": 24.0}, {\"episode\": 381, \"reward\": 20.0}, {\"episode\": 382, \"reward\": 140.0}, {\"episode\": 383, \"reward\": 48.0}, {\"episode\": 384, \"reward\": 30.0}, {\"episode\": 385, \"reward\": 131.0}, {\"episode\": 386, \"reward\": 55.0}, {\"episode\": 387, \"reward\": 53.0}, {\"episode\": 388, \"reward\": 145.0}, {\"episode\": 389, \"reward\": 99.0}, {\"episode\": 390, \"reward\": 94.0}, {\"episode\": 391, \"reward\": 76.0}, {\"episode\": 392, \"reward\": 80.0}, {\"episode\": 393, \"reward\": 206.0}, {\"episode\": 394, \"reward\": 56.0}, {\"episode\": 395, \"reward\": 111.0}, {\"episode\": 396, \"reward\": 152.0}, {\"episode\": 397, \"reward\": 39.0}, {\"episode\": 398, \"reward\": 150.0}, {\"episode\": 399, \"reward\": 182.0}, {\"episode\": 400, \"reward\": 113.0}, {\"episode\": 401, \"reward\": 103.0}, {\"episode\": 402, \"reward\": 123.0}, {\"episode\": 403, \"reward\": 29.0}, {\"episode\": 404, \"reward\": 171.0}, {\"episode\": 405, \"reward\": 38.0}, {\"episode\": 406, \"reward\": 24.0}, {\"episode\": 407, \"reward\": 106.0}, {\"episode\": 408, \"reward\": 21.0}, {\"episode\": 409, \"reward\": 182.0}, {\"episode\": 410, \"reward\": 242.0}, {\"episode\": 411, \"reward\": 52.0}, {\"episode\": 412, \"reward\": 73.0}, {\"episode\": 413, \"reward\": 30.0}, {\"episode\": 414, \"reward\": 30.0}, {\"episode\": 415, \"reward\": 77.0}, {\"episode\": 416, \"reward\": 41.0}, {\"episode\": 417, \"reward\": 56.0}, {\"episode\": 418, \"reward\": 64.0}, {\"episode\": 419, \"reward\": 152.0}, {\"episode\": 420, \"reward\": 55.0}, {\"episode\": 421, \"reward\": 155.0}, {\"episode\": 422, \"reward\": 60.0}, {\"episode\": 423, \"reward\": 125.0}, {\"episode\": 424, \"reward\": 31.0}, {\"episode\": 425, \"reward\": 34.0}, {\"episode\": 426, \"reward\": 105.0}, {\"episode\": 427, \"reward\": 137.0}, {\"episode\": 428, \"reward\": 170.0}, {\"episode\": 429, \"reward\": 201.0}, {\"episode\": 430, \"reward\": 130.0}, {\"episode\": 431, \"reward\": 152.0}, {\"episode\": 432, \"reward\": 32.0}, {\"episode\": 433, \"reward\": 124.0}, {\"episode\": 434, \"reward\": 124.0}, {\"episode\": 435, \"reward\": 112.0}, {\"episode\": 436, \"reward\": 169.0}, {\"episode\": 437, \"reward\": 32.0}, {\"episode\": 438, \"reward\": 162.0}, {\"episode\": 439, \"reward\": 234.0}, {\"episode\": 440, \"reward\": 80.0}, {\"episode\": 441, \"reward\": 173.0}, {\"episode\": 442, \"reward\": 139.0}, {\"episode\": 443, \"reward\": 211.0}, {\"episode\": 444, \"reward\": 19.0}, {\"episode\": 445, \"reward\": 138.0}, {\"episode\": 446, \"reward\": 336.0}, {\"episode\": 447, \"reward\": 159.0}, {\"episode\": 448, \"reward\": 40.0}, {\"episode\": 449, \"reward\": 39.0}, {\"episode\": 450, \"reward\": 88.0}, {\"episode\": 451, \"reward\": 140.0}, {\"episode\": 452, \"reward\": 181.0}, {\"episode\": 453, \"reward\": 229.0}, {\"episode\": 454, \"reward\": 49.0}, {\"episode\": 455, \"reward\": 55.0}, {\"episode\": 456, \"reward\": 147.0}, {\"episode\": 457, \"reward\": 143.0}, {\"episode\": 458, \"reward\": 279.0}, {\"episode\": 459, \"reward\": 58.0}, {\"episode\": 460, \"reward\": 238.0}, {\"episode\": 461, \"reward\": 186.0}, {\"episode\": 462, \"reward\": 96.0}, {\"episode\": 463, \"reward\": 109.0}, {\"episode\": 464, \"reward\": 134.0}, {\"episode\": 465, \"reward\": 158.0}, {\"episode\": 466, \"reward\": 164.0}, {\"episode\": 467, \"reward\": 265.0}, {\"episode\": 468, \"reward\": 191.0}, {\"episode\": 469, \"reward\": 133.0}, {\"episode\": 470, \"reward\": 283.0}, {\"episode\": 471, \"reward\": 90.0}, {\"episode\": 472, \"reward\": 203.0}, {\"episode\": 473, \"reward\": 236.0}, {\"episode\": 474, \"reward\": 50.0}, {\"episode\": 475, \"reward\": 102.0}, {\"episode\": 476, \"reward\": 259.0}, {\"episode\": 477, \"reward\": 217.0}, {\"episode\": 478, \"reward\": 114.0}, {\"episode\": 479, \"reward\": 100.0}, {\"episode\": 480, \"reward\": 216.0}, {\"episode\": 481, \"reward\": 191.0}, {\"episode\": 482, \"reward\": 125.0}, {\"episode\": 483, \"reward\": 207.0}, {\"episode\": 484, \"reward\": 114.0}, {\"episode\": 485, \"reward\": 170.0}, {\"episode\": 486, \"reward\": 35.0}, {\"episode\": 487, \"reward\": 359.0}, {\"episode\": 488, \"reward\": 233.0}, {\"episode\": 489, \"reward\": 168.0}, {\"episode\": 490, \"reward\": 125.0}, {\"episode\": 491, \"reward\": 236.0}, {\"episode\": 492, \"reward\": 31.0}, {\"episode\": 493, \"reward\": 59.0}, {\"episode\": 494, \"reward\": 163.0}, {\"episode\": 495, \"reward\": 312.0}, {\"episode\": 496, \"reward\": 161.0}, {\"episode\": 497, \"reward\": 109.0}, {\"episode\": 498, \"reward\": 190.0}, {\"episode\": 499, \"reward\": 133.0}, {\"episode\": 500, \"reward\": 179.0}, {\"episode\": 501, \"reward\": 23.0}, {\"episode\": 502, \"reward\": 228.0}, {\"episode\": 503, \"reward\": 131.0}, {\"episode\": 504, \"reward\": 226.0}, {\"episode\": 505, \"reward\": 312.0}, {\"episode\": 506, \"reward\": 183.0}, {\"episode\": 507, \"reward\": 183.0}, {\"episode\": 508, \"reward\": 55.0}, {\"episode\": 509, \"reward\": 148.0}, {\"episode\": 510, \"reward\": 205.0}, {\"episode\": 511, \"reward\": 59.0}, {\"episode\": 512, \"reward\": 152.0}, {\"episode\": 513, \"reward\": 183.0}, {\"episode\": 514, \"reward\": 223.0}, {\"episode\": 515, \"reward\": 385.0}, {\"episode\": 516, \"reward\": 112.0}, {\"episode\": 517, \"reward\": 128.0}, {\"episode\": 518, \"reward\": 154.0}, {\"episode\": 519, \"reward\": 25.0}, {\"episode\": 520, \"reward\": 97.0}, {\"episode\": 521, \"reward\": 209.0}, {\"episode\": 522, \"reward\": 149.0}, {\"episode\": 523, \"reward\": 130.0}, {\"episode\": 524, \"reward\": 121.0}, {\"episode\": 525, \"reward\": 121.0}, {\"episode\": 526, \"reward\": 100.0}, {\"episode\": 527, \"reward\": 149.0}, {\"episode\": 528, \"reward\": 150.0}, {\"episode\": 529, \"reward\": 101.0}, {\"episode\": 530, \"reward\": 327.0}, {\"episode\": 531, \"reward\": 325.0}, {\"episode\": 532, \"reward\": 138.0}, {\"episode\": 533, \"reward\": 50.0}, {\"episode\": 534, \"reward\": 263.0}, {\"episode\": 535, \"reward\": 197.0}, {\"episode\": 536, \"reward\": 131.0}, {\"episode\": 537, \"reward\": 157.0}, {\"episode\": 538, \"reward\": 107.0}, {\"episode\": 539, \"reward\": 98.0}, {\"episode\": 540, \"reward\": 132.0}, {\"episode\": 541, \"reward\": 161.0}, {\"episode\": 542, \"reward\": 208.0}, {\"episode\": 543, \"reward\": 59.0}, {\"episode\": 544, \"reward\": 129.0}, {\"episode\": 545, \"reward\": 120.0}, {\"episode\": 546, \"reward\": 114.0}, {\"episode\": 547, \"reward\": 126.0}, {\"episode\": 548, \"reward\": 51.0}, {\"episode\": 549, \"reward\": 157.0}, {\"episode\": 550, \"reward\": 113.0}, {\"episode\": 551, \"reward\": 96.0}, {\"episode\": 552, \"reward\": 68.0}, {\"episode\": 553, \"reward\": 57.0}, {\"episode\": 554, \"reward\": 119.0}, {\"episode\": 555, \"reward\": 86.0}, {\"episode\": 556, \"reward\": 146.0}, {\"episode\": 557, \"reward\": 48.0}, {\"episode\": 558, \"reward\": 53.0}, {\"episode\": 559, \"reward\": 47.0}, {\"episode\": 560, \"reward\": 46.0}, {\"episode\": 561, \"reward\": 89.0}, {\"episode\": 562, \"reward\": 54.0}, {\"episode\": 563, \"reward\": 45.0}, {\"episode\": 564, \"reward\": 60.0}, {\"episode\": 565, \"reward\": 116.0}, {\"episode\": 566, \"reward\": 48.0}, {\"episode\": 567, \"reward\": 127.0}, {\"episode\": 568, \"reward\": 42.0}, {\"episode\": 569, \"reward\": 111.0}, {\"episode\": 570, \"reward\": 85.0}, {\"episode\": 571, \"reward\": 101.0}, {\"episode\": 572, \"reward\": 112.0}, {\"episode\": 573, \"reward\": 31.0}, {\"episode\": 574, \"reward\": 103.0}, {\"episode\": 575, \"reward\": 34.0}, {\"episode\": 576, \"reward\": 45.0}, {\"episode\": 577, \"reward\": 39.0}, {\"episode\": 578, \"reward\": 49.0}, {\"episode\": 579, \"reward\": 99.0}, {\"episode\": 580, \"reward\": 56.0}, {\"episode\": 581, \"reward\": 63.0}, {\"episode\": 582, \"reward\": 66.0}, {\"episode\": 583, \"reward\": 27.0}, {\"episode\": 584, \"reward\": 25.0}, {\"episode\": 585, \"reward\": 33.0}, {\"episode\": 586, \"reward\": 42.0}, {\"episode\": 587, \"reward\": 68.0}, {\"episode\": 588, \"reward\": 51.0}, {\"episode\": 589, \"reward\": 54.0}, {\"episode\": 590, \"reward\": 39.0}, {\"episode\": 591, \"reward\": 58.0}, {\"episode\": 592, \"reward\": 46.0}, {\"episode\": 593, \"reward\": 32.0}, {\"episode\": 594, \"reward\": 29.0}, {\"episode\": 595, \"reward\": 19.0}, {\"episode\": 596, \"reward\": 17.0}, {\"episode\": 597, \"reward\": 19.0}, {\"episode\": 598, \"reward\": 35.0}, {\"episode\": 599, \"reward\": 27.0}, {\"episode\": 600, \"reward\": 25.0}, {\"episode\": 601, \"reward\": 34.0}, {\"episode\": 602, \"reward\": 40.0}, {\"episode\": 603, \"reward\": 28.0}, {\"episode\": 604, \"reward\": 31.0}, {\"episode\": 605, \"reward\": 45.0}, {\"episode\": 606, \"reward\": 22.0}, {\"episode\": 607, \"reward\": 45.0}, {\"episode\": 608, \"reward\": 16.0}, {\"episode\": 609, \"reward\": 25.0}, {\"episode\": 610, \"reward\": 21.0}, {\"episode\": 611, \"reward\": 36.0}, {\"episode\": 612, \"reward\": 27.0}, {\"episode\": 613, \"reward\": 36.0}, {\"episode\": 614, \"reward\": 55.0}, {\"episode\": 615, \"reward\": 40.0}, {\"episode\": 616, \"reward\": 29.0}, {\"episode\": 617, \"reward\": 34.0}, {\"episode\": 618, \"reward\": 24.0}, {\"episode\": 619, \"reward\": 23.0}, {\"episode\": 620, \"reward\": 22.0}, {\"episode\": 621, \"reward\": 20.0}, {\"episode\": 622, \"reward\": 24.0}, {\"episode\": 623, \"reward\": 25.0}, {\"episode\": 624, \"reward\": 30.0}, {\"episode\": 625, \"reward\": 30.0}, {\"episode\": 626, \"reward\": 17.0}, {\"episode\": 627, \"reward\": 34.0}, {\"episode\": 628, \"reward\": 53.0}, {\"episode\": 629, \"reward\": 35.0}, {\"episode\": 630, \"reward\": 21.0}, {\"episode\": 631, \"reward\": 29.0}, {\"episode\": 632, \"reward\": 30.0}, {\"episode\": 633, \"reward\": 28.0}, {\"episode\": 634, \"reward\": 32.0}, {\"episode\": 635, \"reward\": 33.0}, {\"episode\": 636, \"reward\": 20.0}, {\"episode\": 637, \"reward\": 27.0}, {\"episode\": 638, \"reward\": 22.0}, {\"episode\": 639, \"reward\": 31.0}, {\"episode\": 640, \"reward\": 55.0}, {\"episode\": 641, \"reward\": 16.0}, {\"episode\": 642, \"reward\": 30.0}, {\"episode\": 643, \"reward\": 28.0}, {\"episode\": 644, \"reward\": 27.0}, {\"episode\": 645, \"reward\": 41.0}, {\"episode\": 646, \"reward\": 39.0}, {\"episode\": 647, \"reward\": 22.0}, {\"episode\": 648, \"reward\": 11.0}, {\"episode\": 649, \"reward\": 22.0}, {\"episode\": 650, \"reward\": 19.0}, {\"episode\": 651, \"reward\": 24.0}, {\"episode\": 652, \"reward\": 32.0}, {\"episode\": 653, \"reward\": 21.0}, {\"episode\": 654, \"reward\": 19.0}, {\"episode\": 655, \"reward\": 20.0}, {\"episode\": 656, \"reward\": 26.0}, {\"episode\": 657, \"reward\": 25.0}, {\"episode\": 658, \"reward\": 17.0}, {\"episode\": 659, \"reward\": 32.0}, {\"episode\": 660, \"reward\": 38.0}, {\"episode\": 661, \"reward\": 27.0}, {\"episode\": 662, \"reward\": 21.0}, {\"episode\": 663, \"reward\": 25.0}, {\"episode\": 664, \"reward\": 22.0}, {\"episode\": 665, \"reward\": 33.0}, {\"episode\": 666, \"reward\": 27.0}, {\"episode\": 667, \"reward\": 32.0}, {\"episode\": 668, \"reward\": 21.0}, {\"episode\": 669, \"reward\": 30.0}, {\"episode\": 670, \"reward\": 22.0}, {\"episode\": 671, \"reward\": 19.0}, {\"episode\": 672, \"reward\": 20.0}, {\"episode\": 673, \"reward\": 21.0}, {\"episode\": 674, \"reward\": 23.0}, {\"episode\": 675, \"reward\": 31.0}, {\"episode\": 676, \"reward\": 29.0}, {\"episode\": 677, \"reward\": 20.0}, {\"episode\": 678, \"reward\": 40.0}, {\"episode\": 679, \"reward\": 26.0}, {\"episode\": 680, \"reward\": 29.0}, {\"episode\": 681, \"reward\": 54.0}, {\"episode\": 682, \"reward\": 28.0}, {\"episode\": 683, \"reward\": 39.0}, {\"episode\": 684, \"reward\": 27.0}, {\"episode\": 685, \"reward\": 18.0}, {\"episode\": 686, \"reward\": 30.0}, {\"episode\": 687, \"reward\": 26.0}, {\"episode\": 688, \"reward\": 26.0}, {\"episode\": 689, \"reward\": 23.0}, {\"episode\": 690, \"reward\": 21.0}, {\"episode\": 691, \"reward\": 20.0}, {\"episode\": 692, \"reward\": 26.0}, {\"episode\": 693, \"reward\": 23.0}, {\"episode\": 694, \"reward\": 26.0}, {\"episode\": 695, \"reward\": 25.0}, {\"episode\": 696, \"reward\": 29.0}, {\"episode\": 697, \"reward\": 33.0}, {\"episode\": 698, \"reward\": 24.0}, {\"episode\": 699, \"reward\": 21.0}, {\"episode\": 700, \"reward\": 16.0}, {\"episode\": 701, \"reward\": 18.0}, {\"episode\": 702, \"reward\": 17.0}, {\"episode\": 703, \"reward\": 22.0}, {\"episode\": 704, \"reward\": 19.0}, {\"episode\": 705, \"reward\": 19.0}, {\"episode\": 706, \"reward\": 28.0}, {\"episode\": 707, \"reward\": 30.0}, {\"episode\": 708, \"reward\": 50.0}, {\"episode\": 709, \"reward\": 31.0}, {\"episode\": 710, \"reward\": 60.0}, {\"episode\": 711, \"reward\": 78.0}, {\"episode\": 712, \"reward\": 45.0}, {\"episode\": 713, \"reward\": 48.0}, {\"episode\": 714, \"reward\": 17.0}, {\"episode\": 715, \"reward\": 34.0}, {\"episode\": 716, \"reward\": 21.0}, {\"episode\": 717, \"reward\": 16.0}, {\"episode\": 718, \"reward\": 25.0}, {\"episode\": 719, \"reward\": 31.0}, {\"episode\": 720, \"reward\": 21.0}, {\"episode\": 721, \"reward\": 31.0}, {\"episode\": 722, \"reward\": 21.0}, {\"episode\": 723, \"reward\": 24.0}, {\"episode\": 724, \"reward\": 24.0}, {\"episode\": 725, \"reward\": 33.0}, {\"episode\": 726, \"reward\": 58.0}, {\"episode\": 727, \"reward\": 43.0}, {\"episode\": 728, \"reward\": 44.0}, {\"episode\": 729, \"reward\": 34.0}, {\"episode\": 730, \"reward\": 47.0}, {\"episode\": 731, \"reward\": 47.0}, {\"episode\": 732, \"reward\": 44.0}, {\"episode\": 733, \"reward\": 40.0}, {\"episode\": 734, \"reward\": 24.0}, {\"episode\": 735, \"reward\": 36.0}, {\"episode\": 736, \"reward\": 23.0}, {\"episode\": 737, \"reward\": 19.0}, {\"episode\": 738, \"reward\": 35.0}, {\"episode\": 739, \"reward\": 34.0}, {\"episode\": 740, \"reward\": 37.0}, {\"episode\": 741, \"reward\": 40.0}, {\"episode\": 742, \"reward\": 53.0}, {\"episode\": 743, \"reward\": 45.0}, {\"episode\": 744, \"reward\": 47.0}, {\"episode\": 745, \"reward\": 20.0}, {\"episode\": 746, \"reward\": 18.0}, {\"episode\": 747, \"reward\": 21.0}, {\"episode\": 748, \"reward\": 26.0}, {\"episode\": 749, \"reward\": 21.0}, {\"episode\": 750, \"reward\": 14.0}, {\"episode\": 751, \"reward\": 27.0}, {\"episode\": 752, \"reward\": 24.0}, {\"episode\": 753, \"reward\": 33.0}, {\"episode\": 754, \"reward\": 22.0}, {\"episode\": 755, \"reward\": 45.0}, {\"episode\": 756, \"reward\": 44.0}, {\"episode\": 757, \"reward\": 41.0}, {\"episode\": 758, \"reward\": 73.0}, {\"episode\": 759, \"reward\": 50.0}, {\"episode\": 760, \"reward\": 101.0}, {\"episode\": 761, \"reward\": 52.0}, {\"episode\": 762, \"reward\": 50.0}, {\"episode\": 763, \"reward\": 59.0}, {\"episode\": 764, \"reward\": 61.0}, {\"episode\": 765, \"reward\": 27.0}, {\"episode\": 766, \"reward\": 60.0}, {\"episode\": 767, \"reward\": 101.0}, {\"episode\": 768, \"reward\": 49.0}, {\"episode\": 769, \"reward\": 31.0}, {\"episode\": 770, \"reward\": 69.0}, {\"episode\": 771, \"reward\": 26.0}, {\"episode\": 772, \"reward\": 50.0}, {\"episode\": 773, \"reward\": 35.0}, {\"episode\": 774, \"reward\": 145.0}, {\"episode\": 775, \"reward\": 81.0}, {\"episode\": 776, \"reward\": 40.0}, {\"episode\": 777, \"reward\": 67.0}, {\"episode\": 778, \"reward\": 33.0}, {\"episode\": 779, \"reward\": 24.0}, {\"episode\": 780, \"reward\": 19.0}, {\"episode\": 781, \"reward\": 29.0}, {\"episode\": 782, \"reward\": 25.0}, {\"episode\": 783, \"reward\": 23.0}, {\"episode\": 784, \"reward\": 33.0}, {\"episode\": 785, \"reward\": 86.0}, {\"episode\": 786, \"reward\": 132.0}, {\"episode\": 787, \"reward\": 56.0}, {\"episode\": 788, \"reward\": 26.0}, {\"episode\": 789, \"reward\": 17.0}, {\"episode\": 790, \"reward\": 25.0}, {\"episode\": 791, \"reward\": 19.0}, {\"episode\": 792, \"reward\": 14.0}, {\"episode\": 793, \"reward\": 17.0}, {\"episode\": 794, \"reward\": 12.0}, {\"episode\": 795, \"reward\": 16.0}, {\"episode\": 796, \"reward\": 20.0}, {\"episode\": 797, \"reward\": 13.0}, {\"episode\": 798, \"reward\": 17.0}, {\"episode\": 799, \"reward\": 16.0}, {\"episode\": 800, \"reward\": 15.0}, {\"episode\": 801, \"reward\": 21.0}, {\"episode\": 802, \"reward\": 22.0}, {\"episode\": 803, \"reward\": 19.0}, {\"episode\": 804, \"reward\": 26.0}, {\"episode\": 805, \"reward\": 17.0}, {\"episode\": 806, \"reward\": 17.0}, {\"episode\": 807, \"reward\": 13.0}, {\"episode\": 808, \"reward\": 15.0}, {\"episode\": 809, \"reward\": 13.0}, {\"episode\": 810, \"reward\": 13.0}, {\"episode\": 811, \"reward\": 10.0}, {\"episode\": 812, \"reward\": 11.0}, {\"episode\": 813, \"reward\": 10.0}, {\"episode\": 814, \"reward\": 13.0}, {\"episode\": 815, \"reward\": 9.0}, {\"episode\": 816, \"reward\": 8.0}, {\"episode\": 817, \"reward\": 10.0}, {\"episode\": 818, \"reward\": 14.0}, {\"episode\": 819, \"reward\": 14.0}, {\"episode\": 820, \"reward\": 10.0}, {\"episode\": 821, \"reward\": 13.0}, {\"episode\": 822, \"reward\": 9.0}, {\"episode\": 823, \"reward\": 10.0}, {\"episode\": 824, \"reward\": 10.0}, {\"episode\": 825, \"reward\": 11.0}, {\"episode\": 826, \"reward\": 9.0}, {\"episode\": 827, \"reward\": 9.0}, {\"episode\": 828, \"reward\": 10.0}, {\"episode\": 829, \"reward\": 9.0}, {\"episode\": 830, \"reward\": 11.0}, {\"episode\": 831, \"reward\": 10.0}, {\"episode\": 832, \"reward\": 9.0}, {\"episode\": 833, \"reward\": 8.0}, {\"episode\": 834, \"reward\": 9.0}, {\"episode\": 835, \"reward\": 14.0}, {\"episode\": 836, \"reward\": 9.0}, {\"episode\": 837, \"reward\": 13.0}, {\"episode\": 838, \"reward\": 9.0}, {\"episode\": 839, \"reward\": 9.0}, {\"episode\": 840, \"reward\": 9.0}, {\"episode\": 841, \"reward\": 10.0}, {\"episode\": 842, \"reward\": 10.0}, {\"episode\": 843, \"reward\": 13.0}, {\"episode\": 844, \"reward\": 23.0}, {\"episode\": 845, \"reward\": 73.0}, {\"episode\": 846, \"reward\": 54.0}, {\"episode\": 847, \"reward\": 40.0}, {\"episode\": 848, \"reward\": 19.0}, {\"episode\": 849, \"reward\": 12.0}, {\"episode\": 850, \"reward\": 10.0}, {\"episode\": 851, \"reward\": 14.0}, {\"episode\": 852, \"reward\": 16.0}, {\"episode\": 853, \"reward\": 19.0}, {\"episode\": 854, \"reward\": 18.0}, {\"episode\": 855, \"reward\": 20.0}, {\"episode\": 856, \"reward\": 24.0}, {\"episode\": 857, \"reward\": 18.0}, {\"episode\": 858, \"reward\": 14.0}, {\"episode\": 859, \"reward\": 14.0}, {\"episode\": 860, \"reward\": 12.0}, {\"episode\": 861, \"reward\": 16.0}, {\"episode\": 862, \"reward\": 10.0}, {\"episode\": 863, \"reward\": 10.0}, {\"episode\": 864, \"reward\": 9.0}, {\"episode\": 865, \"reward\": 15.0}, {\"episode\": 866, \"reward\": 10.0}, {\"episode\": 867, \"reward\": 10.0}, {\"episode\": 868, \"reward\": 11.0}, {\"episode\": 869, \"reward\": 9.0}, {\"episode\": 870, \"reward\": 10.0}, {\"episode\": 871, \"reward\": 11.0}, {\"episode\": 872, \"reward\": 13.0}, {\"episode\": 873, \"reward\": 16.0}, {\"episode\": 874, \"reward\": 226.0}, {\"episode\": 875, \"reward\": 30.0}, {\"episode\": 876, \"reward\": 120.0}, {\"episode\": 877, \"reward\": 100.0}, {\"episode\": 878, \"reward\": 35.0}, {\"episode\": 879, \"reward\": 193.0}, {\"episode\": 880, \"reward\": 15.0}, {\"episode\": 881, \"reward\": 10.0}, {\"episode\": 882, \"reward\": 16.0}, {\"episode\": 883, \"reward\": 10.0}, {\"episode\": 884, \"reward\": 9.0}, {\"episode\": 885, \"reward\": 8.0}, {\"episode\": 886, \"reward\": 10.0}, {\"episode\": 887, \"reward\": 13.0}, {\"episode\": 888, \"reward\": 10.0}, {\"episode\": 889, \"reward\": 9.0}, {\"episode\": 890, \"reward\": 12.0}, {\"episode\": 891, \"reward\": 11.0}, {\"episode\": 892, \"reward\": 13.0}, {\"episode\": 893, \"reward\": 12.0}, {\"episode\": 894, \"reward\": 12.0}, {\"episode\": 895, \"reward\": 149.0}, {\"episode\": 896, \"reward\": 9.0}, {\"episode\": 897, \"reward\": 11.0}, {\"episode\": 898, \"reward\": 8.0}, {\"episode\": 899, \"reward\": 9.0}, {\"episode\": 900, \"reward\": 9.0}, {\"episode\": 901, \"reward\": 11.0}, {\"episode\": 902, \"reward\": 11.0}, {\"episode\": 903, \"reward\": 9.0}, {\"episode\": 904, \"reward\": 13.0}, {\"episode\": 905, \"reward\": 9.0}, {\"episode\": 906, \"reward\": 9.0}, {\"episode\": 907, \"reward\": 9.0}, {\"episode\": 908, \"reward\": 8.0}, {\"episode\": 909, \"reward\": 10.0}, {\"episode\": 910, \"reward\": 10.0}, {\"episode\": 911, \"reward\": 11.0}, {\"episode\": 912, \"reward\": 13.0}, {\"episode\": 913, \"reward\": 14.0}, {\"episode\": 914, \"reward\": 10.0}, {\"episode\": 915, \"reward\": 10.0}, {\"episode\": 916, \"reward\": 9.0}, {\"episode\": 917, \"reward\": 9.0}, {\"episode\": 918, \"reward\": 10.0}, {\"episode\": 919, \"reward\": 10.0}, {\"episode\": 920, \"reward\": 11.0}, {\"episode\": 921, \"reward\": 14.0}, {\"episode\": 922, \"reward\": 9.0}, {\"episode\": 923, \"reward\": 10.0}, {\"episode\": 924, \"reward\": 14.0}, {\"episode\": 925, \"reward\": 98.0}, {\"episode\": 926, \"reward\": 42.0}, {\"episode\": 927, \"reward\": 48.0}, {\"episode\": 928, \"reward\": 22.0}, {\"episode\": 929, \"reward\": 14.0}, {\"episode\": 930, \"reward\": 13.0}, {\"episode\": 931, \"reward\": 10.0}, {\"episode\": 932, \"reward\": 12.0}, {\"episode\": 933, \"reward\": 12.0}, {\"episode\": 934, \"reward\": 9.0}, {\"episode\": 935, \"reward\": 12.0}, {\"episode\": 936, \"reward\": 12.0}, {\"episode\": 937, \"reward\": 11.0}, {\"episode\": 938, \"reward\": 13.0}, {\"episode\": 939, \"reward\": 11.0}, {\"episode\": 940, \"reward\": 16.0}, {\"episode\": 941, \"reward\": 11.0}, {\"episode\": 942, \"reward\": 9.0}, {\"episode\": 943, \"reward\": 16.0}, {\"episode\": 944, \"reward\": 13.0}, {\"episode\": 945, \"reward\": 15.0}, {\"episode\": 946, \"reward\": 10.0}, {\"episode\": 947, \"reward\": 11.0}, {\"episode\": 948, \"reward\": 9.0}, {\"episode\": 949, \"reward\": 10.0}, {\"episode\": 950, \"reward\": 10.0}, {\"episode\": 951, \"reward\": 11.0}, {\"episode\": 952, \"reward\": 11.0}, {\"episode\": 953, \"reward\": 10.0}, {\"episode\": 954, \"reward\": 8.0}, {\"episode\": 955, \"reward\": 10.0}, {\"episode\": 956, \"reward\": 10.0}, {\"episode\": 957, \"reward\": 10.0}, {\"episode\": 958, \"reward\": 10.0}, {\"episode\": 959, \"reward\": 12.0}, {\"episode\": 960, \"reward\": 21.0}, {\"episode\": 961, \"reward\": 10.0}, {\"episode\": 962, \"reward\": 9.0}, {\"episode\": 963, \"reward\": 10.0}, {\"episode\": 964, \"reward\": 9.0}, {\"episode\": 965, \"reward\": 11.0}, {\"episode\": 966, \"reward\": 9.0}, {\"episode\": 967, \"reward\": 10.0}, {\"episode\": 968, \"reward\": 10.0}, {\"episode\": 969, \"reward\": 9.0}, {\"episode\": 970, \"reward\": 8.0}, {\"episode\": 971, \"reward\": 9.0}, {\"episode\": 972, \"reward\": 9.0}, {\"episode\": 973, \"reward\": 9.0}, {\"episode\": 974, \"reward\": 11.0}, {\"episode\": 975, \"reward\": 16.0}, {\"episode\": 976, \"reward\": 8.0}, {\"episode\": 977, \"reward\": 11.0}, {\"episode\": 978, \"reward\": 14.0}, {\"episode\": 979, \"reward\": 9.0}, {\"episode\": 980, \"reward\": 9.0}, {\"episode\": 981, \"reward\": 10.0}, {\"episode\": 982, \"reward\": 10.0}, {\"episode\": 983, \"reward\": 8.0}, {\"episode\": 984, \"reward\": 8.0}, {\"episode\": 985, \"reward\": 10.0}, {\"episode\": 986, \"reward\": 13.0}, {\"episode\": 987, \"reward\": 13.0}, {\"episode\": 988, \"reward\": 10.0}, {\"episode\": 989, \"reward\": 500.0}, {\"episode\": 990, \"reward\": 237.0}, {\"episode\": 991, \"reward\": 29.0}, {\"episode\": 992, \"reward\": 28.0}, {\"episode\": 993, \"reward\": 283.0}, {\"episode\": 994, \"reward\": 30.0}, {\"episode\": 995, \"reward\": 11.0}, {\"episode\": 996, \"reward\": 13.0}, {\"episode\": 997, \"reward\": 11.0}, {\"episode\": 998, \"reward\": 10.0}, {\"episode\": 999, \"reward\": 10.0}], \"data-9f4edd443ab825e40c8e058fb8bf9b8c\": [{\"episode\": 0, \"reward\": 10.0}, {\"episode\": 1, \"reward\": 11.0}, {\"episode\": 2, \"reward\": 11.0}, {\"episode\": 3, \"reward\": 9.0}, {\"episode\": 4, \"reward\": 11.0}, {\"episode\": 5, \"reward\": 9.0}, {\"episode\": 6, \"reward\": 10.0}, {\"episode\": 7, \"reward\": 9.0}, {\"episode\": 8, \"reward\": 10.0}, {\"episode\": 9, \"reward\": 9.0}, {\"episode\": 10, \"reward\": 11.0}, {\"episode\": 11, \"reward\": 9.0}, {\"episode\": 12, \"reward\": 9.0}, {\"episode\": 13, \"reward\": 9.0}, {\"episode\": 14, \"reward\": 10.0}, {\"episode\": 15, \"reward\": 9.0}, {\"episode\": 16, \"reward\": 9.0}, {\"episode\": 17, \"reward\": 9.0}, {\"episode\": 18, \"reward\": 8.0}, {\"episode\": 19, \"reward\": 10.0}, {\"episode\": 20, \"reward\": 9.0}, {\"episode\": 21, \"reward\": 11.0}, {\"episode\": 22, \"reward\": 11.0}, {\"episode\": 23, \"reward\": 12.0}, {\"episode\": 24, \"reward\": 10.0}, {\"episode\": 25, \"reward\": 9.0}, {\"episode\": 26, \"reward\": 12.0}, {\"episode\": 27, \"reward\": 11.0}, {\"episode\": 28, \"reward\": 10.0}, {\"episode\": 29, \"reward\": 9.0}, {\"episode\": 30, \"reward\": 11.0}, {\"episode\": 31, \"reward\": 10.0}, {\"episode\": 32, \"reward\": 9.0}, {\"episode\": 33, \"reward\": 11.0}, {\"episode\": 34, \"reward\": 10.0}, {\"episode\": 35, \"reward\": 10.0}, {\"episode\": 36, \"reward\": 8.0}, {\"episode\": 37, \"reward\": 10.0}, {\"episode\": 38, \"reward\": 11.0}, {\"episode\": 39, \"reward\": 10.0}, {\"episode\": 40, \"reward\": 9.0}, {\"episode\": 41, \"reward\": 9.0}, {\"episode\": 42, \"reward\": 12.0}, {\"episode\": 43, \"reward\": 9.0}, {\"episode\": 44, \"reward\": 10.0}, {\"episode\": 45, \"reward\": 11.0}, {\"episode\": 46, \"reward\": 10.0}, {\"episode\": 47, \"reward\": 11.0}, {\"episode\": 48, \"reward\": 12.0}, {\"episode\": 49, \"reward\": 11.0}, {\"episode\": 50, \"reward\": 12.0}, {\"episode\": 51, \"reward\": 11.0}, {\"episode\": 52, \"reward\": 9.0}, {\"episode\": 53, \"reward\": 9.0}, {\"episode\": 54, \"reward\": 10.0}, {\"episode\": 55, \"reward\": 10.0}, {\"episode\": 56, \"reward\": 11.0}, {\"episode\": 57, \"reward\": 8.0}, {\"episode\": 58, \"reward\": 10.0}, {\"episode\": 59, \"reward\": 10.0}, {\"episode\": 60, \"reward\": 10.0}, {\"episode\": 61, \"reward\": 9.0}, {\"episode\": 62, \"reward\": 11.0}, {\"episode\": 63, \"reward\": 12.0}, {\"episode\": 64, \"reward\": 9.0}, {\"episode\": 65, \"reward\": 11.0}, {\"episode\": 66, \"reward\": 9.0}, {\"episode\": 67, \"reward\": 10.0}, {\"episode\": 68, \"reward\": 10.0}, {\"episode\": 69, \"reward\": 12.0}, {\"episode\": 70, \"reward\": 9.0}, {\"episode\": 71, \"reward\": 8.0}, {\"episode\": 72, \"reward\": 10.0}, {\"episode\": 73, \"reward\": 12.0}, {\"episode\": 74, \"reward\": 10.0}, {\"episode\": 75, \"reward\": 12.0}, {\"episode\": 76, \"reward\": 12.0}, {\"episode\": 77, \"reward\": 9.0}, {\"episode\": 78, \"reward\": 12.0}, {\"episode\": 79, \"reward\": 9.0}, {\"episode\": 80, \"reward\": 9.0}, {\"episode\": 81, \"reward\": 10.0}, {\"episode\": 82, \"reward\": 10.0}, {\"episode\": 83, \"reward\": 8.0}, {\"episode\": 84, \"reward\": 9.0}, {\"episode\": 85, \"reward\": 9.0}, {\"episode\": 86, \"reward\": 9.0}, {\"episode\": 87, \"reward\": 9.0}, {\"episode\": 88, \"reward\": 11.0}, {\"episode\": 89, \"reward\": 11.0}, {\"episode\": 90, \"reward\": 9.0}, {\"episode\": 91, \"reward\": 10.0}, {\"episode\": 92, \"reward\": 12.0}, {\"episode\": 93, \"reward\": 9.0}, {\"episode\": 94, \"reward\": 10.0}, {\"episode\": 95, \"reward\": 11.0}, {\"episode\": 96, \"reward\": 9.0}, {\"episode\": 97, \"reward\": 10.0}, {\"episode\": 98, \"reward\": 10.0}, {\"episode\": 99, \"reward\": 10.0}]}}, {\"mode\": \"vega-lite\"});\n",
       "</script>"
      ],
      "text/plain": [
       "alt.HConcatChart(...)"
      ]
     },
     "execution_count": 8,
     "metadata": {},
     "output_type": "execute_result"
    }
   ],
   "source": [
    "alt.Chart(train_results).mark_point().encode(x=\"episode\", y=\"reward\") | alt.Chart(\n",
    "    test_rewards\n",
    ").mark_point().encode(x=\"episode\", y=\"reward\")\n"
   ]
  },
  {
   "cell_type": "code",
   "execution_count": 9,
   "id": "3d2b41a8-0c2a-444b-a8cd-4134042d606f",
   "metadata": {},
   "outputs": [
    {
     "data": {
      "text/plain": [
       "[tensor([1., 2., 3.]), tensor([4., 5., 6.]), tensor([7., 8., 9.])]"
      ]
     },
     "execution_count": 9,
     "metadata": {},
     "output_type": "execute_result"
    }
   ],
   "source": [
    "a = []\n",
    "a.append(torch.Tensor([1,2,3]))\n",
    "a.append(torch.Tensor([4,5,6]))\n",
    "a.append(torch.Tensor([7,8,9]))\n",
    "a"
   ]
  },
  {
   "cell_type": "code",
   "execution_count": 10,
   "id": "7dd1edb6-6c19-4e05-97d1-4cb889b4a84a",
   "metadata": {},
   "outputs": [
    {
     "data": {
      "text/plain": [
       "tensor([[1., 2., 3.],\n",
       "        [4., 5., 6.],\n",
       "        [7., 8., 9.]])"
      ]
     },
     "execution_count": 10,
     "metadata": {},
     "output_type": "execute_result"
    }
   ],
   "source": [
    "torch.stack(a)"
   ]
  },
  {
   "cell_type": "code",
   "execution_count": null,
   "id": "f2d6445e-b7b6-401b-b443-0c91a0d06dfe",
   "metadata": {},
   "outputs": [],
   "source": []
  }
 ],
 "metadata": {
  "kernelspec": {
   "display_name": "Python 3 (ipykernel)",
   "language": "python",
   "name": "python3"
  },
  "language_info": {
   "codemirror_mode": {
    "name": "ipython",
    "version": 3
   },
   "file_extension": ".py",
   "mimetype": "text/x-python",
   "name": "python",
   "nbconvert_exporter": "python",
   "pygments_lexer": "ipython3",
   "version": "3.8.12"
  }
 },
 "nbformat": 4,
 "nbformat_minor": 5
}
